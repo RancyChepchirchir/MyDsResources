{
 "cells": [
  {
   "cell_type": "markdown",
   "metadata": {},
   "source": [
    "## Problem Sheet Question 7b\n",
    "\n",
    "The general form of the population growth differential equation\n",
    "$$ y^{'}-y+x=0, \\ \\ (0 \\leq x \\leq 1) $$\n",
    "with the initial condition\n",
    "$$y(0)=0$$\n",
    "For h=0.2.\n",
    "# Midpoint method Solution\n",
    "\\begin{equation}\n",
    "\\frac{w_{i+1}-w_i}{h}=f(x_i+\\frac{h}{2},w_i+\\frac{h}{2}f(x_i,w_i))\n",
    "\\end{equation}\n",
    "Rearranging \n",
    "\\begin{equation}\n",
    "w_{i+1}=w_i+hf(x_i+\\frac{h}{2},w_i+\\frac{h}{2}f(x_i,w_i))\n",
    "\\end{equation}\n",
    "\\begin{equation}\n",
    "w_{i+1}=w_i+h(k_2)\n",
    "\\end{equation}\n",
    "\\begin{equation}\n",
    "k_1=w_i-x_i+2\n",
    "\\end{equation}\n",
    "\\begin{equation}\n",
    "k_2=w_i+\\frac{h}{2}k_1-(x_i+\\frac{h}{2})+2)\n",
    "\\end{equation}"
   ]
  },
  {
   "cell_type": "code",
   "execution_count": 28,
   "metadata": {
    "collapsed": true
   },
   "outputs": [],
   "source": [
    "import numpy as np\n",
    "import math \n",
    "%matplotlib inline\n",
    "import matplotlib.pyplot as plt # side-stepping mpl backend\n",
    "import matplotlib.gridspec as gridspec # subplots\n",
    "import warnings\n",
    "warnings.filterwarnings(\"ignore\")"
   ]
  },
  {
   "cell_type": "code",
   "execution_count": 33,
   "metadata": {
    "collapsed": false
   },
   "outputs": [],
   "source": [
    "def myfun_xy(x,y):\n",
    "    return y-x+2\n",
    "\n",
    "#PLOTS\n",
    "def Midpoint_Question2(N,IC):\n",
    "\n",
    "    x_start=0\n",
    "    INTITIAL_CONDITION=IC\n",
    "    h=0.2\n",
    "    N=N+1\n",
    "    x=np.zeros(N)\n",
    "    w=np.zeros(N)\n",
    "    k_mat=np.zeros((2,N))\n",
    "    k=0\n",
    "    w[0]=INTITIAL_CONDITION\n",
    "    x[0]=x_start\n",
    "    \n",
    "    for k in range (0,N-1):\n",
    "        k_mat[0,k]=myfun_ty(x[k],w[k])\n",
    "        k_mat[1,k]=myfun_ty(x[k]+h/2,w[k]+h/2*k_mat[0,k])\n",
    "        w[k+1]=w[k]+h*(k_mat[1,k])\n",
    "        x[k+1]=x[k]+h\n",
    "\n",
    "\n",
    "    fig = plt.figure(figsize=(10,4))\n",
    "    plt.plot(x,w,color='red')\n",
    "    plt.title('Numerical Solution h=%s'%(h))\n",
    "\n",
    "    # --- title, explanatory text and save\n",
    "    fig.suptitle(r\"$y'=y-x+2$\", fontsize=20)\n",
    "    plt.tight_layout()\n",
    "    plt.subplots_adjust(top=0.85)    \n",
    "    print('x')\n",
    "    print(x)\n",
    "    print('k1')\n",
    "    print(k_mat[0,:])\n",
    "    print('k2')\n",
    "    print(k_mat[1,:])\n",
    "    print('w')\n",
    "    print(w)"
   ]
  },
  {
   "cell_type": "code",
   "execution_count": 34,
   "metadata": {
    "collapsed": false
   },
   "outputs": [
    {
     "name": "stdout",
     "output_type": "stream",
     "text": [
      "x\n",
      "[ 0.   0.2  0.4  0.6  0.8  1. ]\n",
      "k1\n",
      "[  2.           2.542564     3.66311846   6.53450505  17.33391633   0.        ]\n",
      "k2\n",
      "[  2.21         2.94953193   4.60323246   9.44485566  33.20466757   0.        ]\n",
      "w\n",
      "[  1.           1.442        2.03190639   2.95255288   4.84152401\n",
      "  11.48245753]\n"
     ]
    },
    {
     "data": {
      "image/png": "[encoded data removed]",
      "text/plain": [
       "<matplotlib.figure.Figure at 0x7fc3f1485eb8>"
      ]
     },
     "metadata": {},
     "output_type": "display_data"
    }
   ],
   "source": [
    "# Midpoint_Question2(N,IC)\n",
    "Midpoint_Question2(5,1)"
   ]
  },
  {
   "cell_type": "code",
   "execution_count": null,
   "metadata": {
    "collapsed": true
   },
   "outputs": [],
   "source": []
  },
  {
   "cell_type": "code",
   "execution_count": null,
   "metadata": {
    "collapsed": true
   },
   "outputs": [],
   "source": []
  }
 ],
 "metadata": {
  "kernelspec": {
   "display_name": "Python 3",
   "language": "python",
   "name": "python3"
  },
  "language_info": {
   "codemirror_mode": {
    "name": "ipython",
    "version": 3
   },
   "file_extension": ".py",
   "mimetype": "text/x-python",
   "name": "python",
   "nbconvert_exporter": "python",
   "pygments_lexer": "ipython3",
   "version": "3.4.1"
  }
 },
 "nbformat": 4,
 "nbformat_minor": 0
}
