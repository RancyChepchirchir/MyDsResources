{
 "cells": [
  {
   "cell_type": "markdown",
   "metadata": {},
   "source": [
    "# One Step Methods\n",
    "Given the first order equation\n",
    "\\begin{equation} \n",
    "y^{'} = 2y-0.1y^2,\n",
    "\\end{equation}\n",
    "with the initial condition\n",
    "\\begin{equation} \n",
    "y(0) = 1.\n",
    "\\end{equation}\n",
    "\n",
    "Aproximate the solution of the inital value problem for the interval $0 \\leq t \\leq 4$ using $N=8$.\n",
    "Using the:\n",
    "1. Euler method:\n",
    "$$ w_{i+1}=w_i+hf(t_i,w_i);$$\n",
    "\n",
    "2. Midpoint method:\n",
    "$$ w_{i+1}=w_i+hf(t_i+\\frac{h}{2},w_i+\\frac{h}{2}k1),$$\n",
    "where $k1=f(t_i,w_i)$;\n",
    "\n",
    "3. 4th Order Runge Kutta method:\n",
    "$$ w_{i+1}=w_i+\\frac{h}{6}(k1+2k2+2k3+k4),$$\n",
    "where $$k1=f(t_i,w_i),$$\n",
    "$$k2=f(t_i+\\frac{h}{2},w_i+\\frac{h}{2}k1),$$\n",
    "$$k3=f(t_i+\\frac{h}{2},w_i+\\frac{h}{2}k2),$$\n",
    "$$k4=f(t_i+h,w_i+hk3);$$\n",
    "\n",
    "4. Imposter-Butler method:\n",
    "$$ w_{i+1}=w_i+\\frac{h}{4}(k1+2k2),$$\n",
    "where $$k1=f(t_i,w_i),$$\n",
    "$$k2=f(t_i+h,w_i+hk1).$$\n",
    "\n",
    "What is wrong with the Imposter-Butler method?"
   ]
  },
  {
   "cell_type": "markdown",
   "metadata": {},
   "source": [
    "### DECLARING LIBRARIES"
   ]
  },
  {
   "cell_type": "code",
   "execution_count": 1,
   "metadata": {
    "collapsed": true
   },
   "outputs": [],
   "source": [
    "import numpy as np\n",
    "import math \n",
    "\n",
    "%matplotlib inline\n",
    "import matplotlib.pyplot as plt # side-stepping mpl backend\n",
    "import matplotlib.gridspec as gridspec # subplots\n",
    "import warnings\n",
    "warnings.filterwarnings(\"ignore\")"
   ]
  },
  {
   "cell_type": "markdown",
   "metadata": {},
   "source": [
    "### Outputting Table"
   ]
  },
  {
   "cell_type": "code",
   "execution_count": 2,
   "metadata": {
    "collapsed": true
   },
   "outputs": [],
   "source": [
    "class ListTable(list):\n",
    "    \"\"\" Overridden list class which takes a 2-dimensional list of \n",
    "        the form [[1,2,3],[4,5,6]], and renders an HTML Table in \n",
    "        IPython Notebook. \"\"\"\n",
    "    \n",
    "    def _repr_html_(self):\n",
    "        html = [\"<table>\"]\n",
    "        for row in self:\n",
    "            html.append(\"<tr>\")\n",
    "            \n",
    "            for col in row:\n",
    "                html.append(\"<td>{0}</td>\".format(col))\n",
    "            \n",
    "            html.append(\"</tr>\")\n",
    "        html.append(\"</table>\")\n",
    "        return ''.join(html)"
   ]
  },
  {
   "cell_type": "markdown",
   "metadata": {},
   "source": [
    "## Setting up the discrete time axis\n",
    "$$ h=\\frac{4-0}{N}=0.5 $$\n",
    "$$t_i=t_0+ih$$\n",
    "$$t_i=0+0.5i$$\n",
    "for $i=0,1,2,...,8.$"
   ]
  },
  {
   "cell_type": "code",
   "execution_count": 3,
   "metadata": {},
   "outputs": [],
   "source": [
    "N=4\n",
    "x_end=2.0\n",
    "h=((x_end-1)/N)\n",
    "\n",
    "INITIALCONDITION=1\n",
    "time=np.zeros(N+1)\n",
    "\n",
    "table = ListTable()\n",
    "table.append(['time', 'u', 'w'])"
   ]
  },
  {
   "cell_type": "markdown",
   "metadata": {},
   "source": [
    "### Defining the function\n",
    "From the initial value problem the function\n",
    "$$ f(t,y)= 2y-0.1y^2. $$"
   ]
  },
  {
   "cell_type": "code",
   "execution_count": 4,
   "metadata": {},
   "outputs": [],
   "source": [
    "def myfun(w,u,x):\n",
    "    return -2*x*w+u*u"
   ]
  },
  {
   "cell_type": "markdown",
   "metadata": {},
   "source": [
    "## NUMERICAL SOLUTION"
   ]
  },
  {
   "cell_type": "code",
   "execution_count": 5,
   "metadata": {},
   "outputs": [],
   "source": [
    "time[0]=1"
   ]
  },
  {
   "cell_type": "markdown",
   "metadata": {},
   "source": [
    "## Euler Method\n",
    "$$w_0=1$$\n",
    "$$ w_{i+1}=w_i+h(2w_i-0.1w_i^2)$$\n",
    "$$N=0,1,2,...7$$"
   ]
  },
  {
   "cell_type": "code",
   "execution_count": 11,
   "metadata": {},
   "outputs": [],
   "source": [
    "w=np.zeros(N+1)\n",
    "u=np.zeros(N+1)\n",
    "u[0]=0.5\n",
    "w[0]=-0.5\n",
    "i=0\n",
    "table.append([time[i], u[i], w[i]])\n",
    "\n",
    "for i in range (0,N):\n",
    "    # Euler Method\n",
    "    w[i+1]=w[i]+h*myfun(w[i],u[i],time[i])\n",
    "    u[i+1]=u[i]+h*w[i]\n",
    "    time[i+1]=time[i]+h\n",
    "    table.append([time[i+1], u[i+1], w[i+1]])"
   ]
  },
  {
   "cell_type": "markdown",
   "metadata": {},
   "source": [
    "## Plotting"
   ]
  },
  {
   "cell_type": "code",
   "execution_count": 12,
   "metadata": {},
   "outputs": [
    {
     "data": {
      "text/plain": [
       "<matplotlib.text.Text at 0x7f4229590320>"
      ]
     },
     "execution_count": 12,
     "metadata": {},
     "output_type": "execute_result"
    },
    {
     "data": {
      "image/png": "[encoded data removed]",
      "text/plain": [
       "<matplotlib.figure.Figure at 0x7f42295cd2e8>"
      ]
     },
     "metadata": {},
     "output_type": "display_data"
    }
   ],
   "source": [
    "fig = plt.figure(figsize=(8,4))\n",
    "plt.plot(time,w,'o:',color='red',label='w')\n",
    "plt.plot(time,u,'o:',color='blue',label='u')\n",
    "plt.legend(loc=4)\n",
    "plt.title('Numerical Solutions of initial value problem.')"
   ]
  },
  {
   "cell_type": "code",
   "execution_count": 13,
   "metadata": {},
   "outputs": [
    {
     "data": {
      "text/html": [
       "<table><tr><td>time</td><td>u</td><td>w</td></tr><tr><td>0.0</td><td>0.0</td><td>0.0</td></tr><tr><td>1.25</td><td>0.375</td><td>-0.1875</td></tr><tr><td>1.5</td><td>0.328125</td><td>-0.03515625</td></tr><tr><td>1.75</td><td>0.3193359375</td><td>0.01812744140625</td></tr><tr><td>2.0</td><td>0.3238677978515625</td><td>0.027759790420532227</td></tr><tr><td>1.0</td><td>0.5</td><td>-0.5</td></tr><tr><td>1.25</td><td>0.375</td><td>-0.1875</td></tr><tr><td>1.5</td><td>0.328125</td><td>-0.03515625</td></tr><tr><td>1.75</td><td>0.3193359375</td><td>0.01812744140625</td></tr><tr><td>2.0</td><td>0.3238677978515625</td><td>0.027759790420532227</td></tr></table>"
      ],
      "text/plain": [
       "[['time', 'u', 'w'],\n",
       " [0.0, 0.0, 0.0],\n",
       " [1.25, 0.375, -0.1875],\n",
       " [1.5, 0.328125, -0.03515625],\n",
       " [1.75, 0.3193359375, 0.01812744140625],\n",
       " [2.0, 0.3238677978515625, 0.027759790420532227],\n",
       " [1.0, 0.5, -0.5],\n",
       " [1.25, 0.375, -0.1875],\n",
       " [1.5, 0.328125, -0.03515625],\n",
       " [1.75, 0.3193359375, 0.01812744140625],\n",
       " [2.0, 0.3238677978515625, 0.027759790420532227]]"
      ]
     },
     "execution_count": 13,
     "metadata": {},
     "output_type": "execute_result"
    }
   ],
   "source": [
    "table"
   ]
  },
  {
   "cell_type": "code",
   "execution_count": null,
   "metadata": {
    "collapsed": true
   },
   "outputs": [],
   "source": []
  }
 ],
 "metadata": {
  "kernelspec": {
   "display_name": "Python 3",
   "language": "python",
   "name": "python3"
  },
  "language_info": {
   "codemirror_mode": {
    "name": "ipython",
    "version": 3
   },
   "file_extension": ".py",
   "mimetype": "text/x-python",
   "name": "python",
   "nbconvert_exporter": "python",
   "pygments_lexer": "ipython3",
   "version": "3.7.3"
  }
 },
 "nbformat": 4,
 "nbformat_minor": 1
}
