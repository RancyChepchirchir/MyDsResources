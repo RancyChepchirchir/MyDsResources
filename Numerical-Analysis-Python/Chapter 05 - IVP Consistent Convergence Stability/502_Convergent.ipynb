{
 "cells": [
  {
   "cell_type": "markdown",
   "metadata": {},
   "source": [
    "# Convergence of a Multistep Method\n",
    "#### John S Butler \n",
    "john.s.butler@tudublin.ie   \n",
    "[Course Notes](https://johnsbutler.netlify.com/files/Teaching/Numerical_Analysis_for_Differential_Equations.pdf)    [Github](https://github.com/john-s-butler-dit/Numerical-Analysis-Python)\n",
    "\n",
    "## Overview\n",
    "A one-step or multistep method is used to approximate the solution of an initial value problem of the form\n",
    "$$ \\frac{dy}{dt}=f(t,y), $$\n",
    "with the initial condition\n",
    "$$ y(a)=\\alpha.$$\n",
    "The method should only be used if it satisfies the three criteria:\n",
    "1. that difference equation is __consistent__ with the differential equation;\n",
    "2. that the numerical solution __convergent__ to the exact answer of the differential equation;\n",
    "3. that the numerical solution is __stable__.\n",
    "\n",
    "In the notebooks in this folder we will illustate examples of consistent and inconsistent, convergent and non-convergent, and stable and unstable methods. "
   ]
  },
  {
   "cell_type": "markdown",
   "metadata": {},
   "source": [
    "## Introduction to Convergence\n",
    "\n",
    "In this notebook we will illustate an non-convergent method.\n",
    "\n",
    "### Definition\n",
    "\n",
    "The solution of a multi-step methods $w_i$ is said to be __convergent__ with respect to\n",
    "the exact solution of the differential equation if\n",
    "$$ \\max_{h \\rightarrow 0}\\max_{1 \\leq i \\leq N}|y(t_i)-w_i|=0$$\n",
    "All the Runge Kutta, Adams-Bashforth and Adams-Moulton methods are convergent."
   ]
  },
  {
   "cell_type": "markdown",
   "metadata": {},
   "source": [
    "## 2-step Abysmal Butler Multistep Method \n",
    "\n",
    "This notebook will illustrate a non-convergent multistep method using the Abysmal-Butler method, named with great pride after the author.\n",
    "The 2-step Abysmal Butler difference equation is given by\n",
    "$$w_{i+1} = w_{i} + \\frac{h}{2}(4f(t_i,w_i)-3f(t_{i-1},w_{i-1})), $$\n",
    "The final section of this notebooks shows that the method is non-convergent for all differential equations.\n",
    "\n",
    "## Intial Value Problem\n",
    "To illustrate convergence we will apply Abysmal-Butler multistep method to the linear intial value problem\n",
    "$$ y^{'}=t-y, \\ \\ (0 \\leq t \\leq 2) $$\n",
    "with the initial condition\n",
    "$$y(0)=1,$$\n",
    "with the exact solution\n",
    "$$y(t)= 2e^{-t}+t-1.$$"
   ]
  },
  {
   "cell_type": "markdown",
   "metadata": {},
   "source": [
    "## Python Libraries"
   ]
  },
  {
   "cell_type": "code",
   "execution_count": 1,
   "metadata": {},
   "outputs": [],
   "source": [
    "import numpy as np\n",
    "import math \n",
    "import pandas as pd\n",
    "\n",
    "\n",
    "%matplotlib inline\n",
    "import matplotlib.pyplot as plt # side-stepping mpl backend\n",
    "import matplotlib.gridspec as gridspec # subplots\n",
    "import warnings\n",
    "\n",
    "warnings.filterwarnings(\"ignore\")"
   ]
  },
  {
   "cell_type": "markdown",
   "metadata": {},
   "source": [
    "### Defining the function\n",
    "$$ f(t,y)=t-y.$$"
   ]
  },
  {
   "cell_type": "code",
   "execution_count": 2,
   "metadata": {},
   "outputs": [],
   "source": [
    "def myfun_ty(t,y):\n",
    "    return t-y"
   ]
  },
  {
   "cell_type": "markdown",
   "metadata": {},
   "source": [
    "## Discrete Interval\n",
    "To illustrtate that the method is internally convergent but not convergent with the exact solution we define two discrete meshes, one coarse and one fine.\n",
    "### Coarse mesh\n",
    "Defining the step size  $h$  from the interval range  $a \\leq t \\leq b$  and number of steps  $N$ \n",
    "$$h=\\frac{b - a}{N}.$$\n",
    " \n",
    "This gives the discrete time steps,\n",
    "$$t_i=t_0+ih,$$\n",
    "where  $t_0=a,$ for $i=0,1...,N$.\n",
    "### Fine mesh\n",
    "Defining the step size  $h/2$  from the interval range  $a≤t≤b$  and number of steps  $2N$ \n",
    "$$h=\\frac{b−a}{2N}.$$\n",
    " \n",
    "This gives the discrete time steps,\n",
    "$$t_i=t_0+ih,$$\n",
    "where  $t_0=a,$ for $i =0,1,...2N$.\n",
    "\n",
    "The plot below shows the coarse (red) and fine (green) discrete time intervals over the domain."
   ]
  },
  {
   "cell_type": "code",
   "execution_count": 3,
   "metadata": {},
   "outputs": [
    {
     "data": {
      "image/png": "[encoded data removed]",
      "text/plain": [
       "<Figure size 720x288 with 1 Axes>"
      ]
     },
     "metadata": {
      "needs_background": "light"
     },
     "output_type": "display_data"
    }
   ],
   "source": [
    "# Start and end of interval\n",
    "b=2\n",
    "a=0\n",
    "# Step size\n",
    "N=16\n",
    "h=(b-a)/(N)\n",
    "t=np.arange(a,b+h,h)\n",
    "N2=N*2\n",
    "h2=(b-a)/(N2)\n",
    "t2=np.arange(a,b+h2,h2)\n",
    "w2=np.zeros(len(t2))\n",
    "\n",
    "fig = plt.figure(figsize=(10,4))\n",
    "plt.plot(t2,0.01*np.ones(len(t2)),'o:',color='green',label='Fine Mesh')\n",
    "plt.plot(t,0*t,'o:',color='red',label='Coarse Mesh')\n",
    "plt.xlim((0,2))\n",
    "plt.ylim((-0.1,.1))\n",
    "\n",
    "plt.legend()\n",
    "plt.title('Illustration of discrete time points')\n",
    "plt.show()"
   ]
  },
  {
   "cell_type": "markdown",
   "metadata": {},
   "source": [
    "## 2-step Abysmal Butler Method \n",
    "The 2-step Abysmal Butler difference equation is\n",
    "$$w_{i+1} = w_{i} + \\frac{h}{2}(4(t_i-w_i)-3(t_{i-1}-w_{i-1})), $$\n",
    "for $i=1,...N.$\n",
    "For $i=0$ the system of difference equation is:\n",
    "\n",
    "$$w_{1} = w_{0} + \\frac{h}{2}(4(t_0-w_0)-3(t_{-1}-w_{-1})) $$\n",
    "this is not solvable as <font color='red'> $w_{-1}$ </font> is unknown.\n",
    "\n",
    "For $i=1$ the difference equation is:\n",
    "$$w_{2} = w_{1} + \\frac{h}{2}(4(t_1-w_1)-3(t_{0}-w_{0})) $$\n",
    "this is not solvable a <font color='red'> $w_{1}$  </font> is unknown. $w_1$ can be  approximated using a one step method. Here, as the exact solution is known,\n",
    "$$w_1=2e^{-t_1}+t_1-1.$$\n"
   ]
  },
  {
   "cell_type": "code",
   "execution_count": 4,
   "metadata": {},
   "outputs": [],
   "source": [
    "### Initial conditions\n",
    "IC=1\n",
    "w=np.zeros(len(t))\n",
    "w[0]=IC\n",
    "\n",
    "w2=np.zeros(len(t2))\n",
    "w2[0]=IC\n",
    "w2[1]=(IC+1)*np.exp(-t2[1])+t2[1]-1\n",
    "\n"
   ]
  },
  {
   "cell_type": "markdown",
   "metadata": {},
   "source": [
    "### Loop\n"
   ]
  },
  {
   "cell_type": "code",
   "execution_count": 5,
   "metadata": {},
   "outputs": [],
   "source": [
    "\n",
    "# Fine Mesh\n",
    "for k in range (1,N2):\n",
    "    w2[k+1]=(w2[k]+h2/2.0*(4*myfun_ty(t2[k],w2[k])-3*myfun_ty(t2[k-1],w2[k-1]))) \n",
    "    \n",
    "    \n",
    "w[1]=w2[2]\n",
    "\n",
    "# Coarse Mesh\n",
    "for k in range (1,N):\n",
    "    w[k+1]=(w[k]+h/2.0*(4*myfun_ty(t[k],w[k])-3*myfun_ty(t[k-1],w[k-1])))   \n"
   ]
  },
  {
   "cell_type": "markdown",
   "metadata": {},
   "source": [
    "### Plotting solution"
   ]
  },
  {
   "cell_type": "code",
   "execution_count": 6,
   "metadata": {},
   "outputs": [],
   "source": [
    "def plotting(t,w,t2,w2):\n",
    "    y=(2)*np.exp(-t2)+t2-1\n",
    "    fig = plt.figure(figsize=(10,4))\n",
    "    plt.plot(t,w,'^:',color='red',label='Coarse Mesh (N)')\n",
    "    plt.plot(t2,w2, 'v-',color='green',label='Fine Mesh (2N)')\n",
    "\n",
    "\n",
    "    plt.plot(t2,y, 'o-',color='black',label='Exact?')\n",
    "    plt.xlabel('time')\n",
    "    plt.legend()\n",
    "    plt.title('Abysmal Butler')\n",
    "    plt.show "
   ]
  },
  {
   "cell_type": "markdown",
   "metadata": {},
   "source": [
    "The plot below shows the Abysmal-Butler approximation for a low N (red) and $N\\times2$ (green) and the exact solution (black) of the intial value problem"
   ]
  },
  {
   "cell_type": "code",
   "execution_count": 7,
   "metadata": {},
   "outputs": [
    {
     "data": {
      "image/png": "[encoded data removed]",
      "text/plain": [
       "<Figure size 720x288 with 1 Axes>"
      ]
     },
     "metadata": {
      "needs_background": "light"
     },
     "output_type": "display_data"
    }
   ],
   "source": [
    "plotting(t,w,t2,w2)"
   ]
  },
  {
   "cell_type": "markdown",
   "metadata": {},
   "source": [
    "## Convergent \n",
    "The Abysmal-Butler method does satisfy the Lipschitz condition:\n",
    "$$F(t,w:h)-F(t,\\hat{w}:h)=\\frac{4}{2}f(t,w_i)-\\frac{3}{2}f(t-h,w_{i-1}))-(\\frac{4}{2}f(t,\\hat{w}_{i})-\\frac{3}{2}f(t-h,\\hat{w}_{i-1})))$$\n",
    "$$F(t,w:h)-F(t,\\hat{w}:h)=\\frac{4}{2}(f(t,w_i)-f(t,\\hat{w}_i))-\\frac{3}{2}(f(t-h,w_{i-1}))-f(t-h,\\hat{w}_{i-1})))$$\n",
    "$$F(t,w:h)-F(t,\\hat{w}:h)\\leq\\frac{4}{2}L|w_i-\\hat{w_i}|+\\frac{3}{2}L|w-\\hat{w}|\\leq \\frac{7}{2} L|w_i-\\hat{w_i}|$$\n",
    "This means it is internally convergent,\n",
    "$$|w_i-\\hat{w_i}|\\rightarrow 0$$ \n",
    "as $h \\rightarrow 0$,\n",
    "but as it is not consistent it will never converge to the exact solution\n",
    "$$ |y_i-w_i| \\not= 0.$$\n"
   ]
  },
  {
   "cell_type": "code",
   "execution_count": 8,
   "metadata": {},
   "outputs": [
    {
     "data": {
      "text/html": [
       "<div>\n",
       "<style scoped>\n",
       "    .dataframe tbody tr th:only-of-type {\n",
       "        vertical-align: middle;\n",
       "    }\n",
       "\n",
       "    .dataframe tbody tr th {\n",
       "        vertical-align: top;\n",
       "    }\n",
       "\n",
       "    .dataframe thead th {\n",
       "        text-align: right;\n",
       "    }\n",
       "</style>\n",
       "<table border=\"1\" class=\"dataframe\">\n",
       "  <thead>\n",
       "    <tr style=\"text-align: right;\">\n",
       "      <th></th>\n",
       "      <th>time</th>\n",
       "      <th>Abysmal Butler</th>\n",
       "      <th>Abysmal Butler w2 N*2</th>\n",
       "      <th>w-w2</th>\n",
       "    </tr>\n",
       "  </thead>\n",
       "  <tbody>\n",
       "    <tr>\n",
       "      <th>0</th>\n",
       "      <td>0.000</td>\n",
       "      <td>1.000000</td>\n",
       "      <td>1.000000</td>\n",
       "      <td>0.000000</td>\n",
       "    </tr>\n",
       "    <tr>\n",
       "      <th>1</th>\n",
       "      <td>0.125</td>\n",
       "      <td>0.925223</td>\n",
       "      <td>0.925223</td>\n",
       "      <td>0.000000</td>\n",
       "    </tr>\n",
       "    <tr>\n",
       "      <th>2</th>\n",
       "      <td>0.250</td>\n",
       "      <td>0.912667</td>\n",
       "      <td>0.892595</td>\n",
       "      <td>0.020072</td>\n",
       "    </tr>\n",
       "    <tr>\n",
       "      <th>3</th>\n",
       "      <td>0.375</td>\n",
       "      <td>0.897042</td>\n",
       "      <td>0.869112</td>\n",
       "      <td>0.027930</td>\n",
       "    </tr>\n",
       "    <tr>\n",
       "      <th>4</th>\n",
       "      <td>0.500</td>\n",
       "      <td>0.890782</td>\n",
       "      <td>0.853975</td>\n",
       "      <td>0.036807</td>\n",
       "    </tr>\n",
       "  </tbody>\n",
       "</table>\n",
       "</div>"
      ],
      "text/plain": [
       "    time  Abysmal Butler  Abysmal Butler w2 N*2      w-w2\n",
       "0  0.000        1.000000               1.000000  0.000000\n",
       "1  0.125        0.925223               0.925223  0.000000\n",
       "2  0.250        0.912667               0.892595  0.020072\n",
       "3  0.375        0.897042               0.869112  0.027930\n",
       "4  0.500        0.890782               0.853975  0.036807"
      ]
     },
     "execution_count": 8,
     "metadata": {},
     "output_type": "execute_result"
    }
   ],
   "source": [
    "d = {'time': t[0:5], 'Abysmal Butler': w[0:5],'Abysmal Butler w2 N*2': w2[0:10:2],\n",
    "     'w-w2':np.abs(w[0:5]-w2[0:10:2])}\n",
    "df = pd.DataFrame(data=d)\n",
    "df"
   ]
  },
  {
   "cell_type": "code",
   "execution_count": null,
   "metadata": {},
   "outputs": [],
   "source": []
  }
 ],
 "metadata": {
  "kernelspec": {
   "display_name": "Python 3",
   "language": "python",
   "name": "python3"
  },
  "language_info": {
   "codemirror_mode": {
    "name": "ipython",
    "version": 3
   },
   "file_extension": ".py",
   "mimetype": "text/x-python",
   "name": "python",
   "nbconvert_exporter": "python",
   "pygments_lexer": "ipython3",
   "version": "3.7.3"
  }
 },
 "nbformat": 4,
 "nbformat_minor": 1
}
