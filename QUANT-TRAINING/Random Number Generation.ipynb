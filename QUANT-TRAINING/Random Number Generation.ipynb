{
 "cells": [
  {
   "cell_type": "code",
   "execution_count": 39,
   "metadata": {
    "collapsed": true
   },
   "outputs": [],
   "source": [
    "#Module Imports\n",
    "import numpy as np\n",
    "import numpy.random as npr\n",
    "import time"
   ]
  },
  {
   "cell_type": "code",
   "execution_count": 40,
   "metadata": {
    "collapsed": true
   },
   "outputs": [],
   "source": [
    "'''DEFINITION OF VARIABLES\n",
    "    I - Number of Simulations\n",
    "    N - Number of Timesteps\n",
    "'''\n",
    "\n",
    "I = 100000\n",
    "N = 252"
   ]
  },
  {
   "cell_type": "markdown",
   "metadata": {},
   "source": [
    "Antithetic Variance Reduction\n",
    "\n",
    "Generates only half of the random numbers needed, then appends the negative values to the array\n",
    "Decreases the amount of time needed to generate the random numbers for simulations"
   ]
  },
  {
   "cell_type": "code",
   "execution_count": 41,
   "metadata": {
    "collapsed": false
   },
   "outputs": [],
   "source": [
    "def rand_num_anti(N, I): #Random Numbers using Antithetic Variance Reduction Technique\n",
    "    PHI = npr.standard_normal((N+1,int(I/2))) #RANDOM NUMBER\n",
    "    PHI = np.concatenate((PHI, -PHI), axis=1)\n",
    "    return PHI"
   ]
  },
  {
   "cell_type": "markdown",
   "metadata": {},
   "source": [
    "Moment Matching\n",
    "\n",
    "Adjusts the random numbers to normalize them to exactly mean = 0, standard deviation = 1"
   ]
  },
  {
   "cell_type": "code",
   "execution_count": 42,
   "metadata": {
    "collapsed": true
   },
   "outputs": [],
   "source": [
    "def rand_num_mm(N, I):  #Random Numbers with Moment Matching\n",
    "    PHI = npr.standard_normal((N,I))\n",
    "    PHI = (PHI - PHI.mean()) / PHI.std()\n",
    "    return PHI"
   ]
  },
  {
   "cell_type": "markdown",
   "metadata": {},
   "source": [
    "Numpy random number generation w/o adjustment"
   ]
  },
  {
   "cell_type": "code",
   "execution_count": 43,
   "metadata": {
    "collapsed": true
   },
   "outputs": [],
   "source": [
    "def rand_num(N, I): #Random Numbers w/o Antithetic Variance Reduction\n",
    "    PHI = npr.standard_normal((N,I)) #RANDOM NUMBER     \n",
    "    return PHI"
   ]
  },
  {
   "cell_type": "markdown",
   "metadata": {},
   "source": [
    "Comparison"
   ]
  },
  {
   "cell_type": "code",
   "execution_count": 44,
   "metadata": {
    "collapsed": false
   },
   "outputs": [
    {
     "name": "stdout",
     "output_type": "stream",
     "text": [
      "mean is -0.00000\n",
      "standard deviation is 1.00012\n",
      "mean is -0.00000\n",
      "standard deviation is 0.99996\n",
      "mean is -0.00000\n",
      "standard deviation is 1.00007\n",
      "mean is 0.00000\n",
      "standard deviation is 0.99997\n",
      "1 loop, best of 3: 1.02 s per loop\n"
     ]
    }
   ],
   "source": [
    "%%timeit\n",
    "PHI = rand_num_anti(N, I)\n",
    "print(\"mean is %.5f\" %PHI.mean())\n",
    "print(\"standard deviation is %.5f\" %PHI.std())"
   ]
  },
  {
   "cell_type": "code",
   "execution_count": 45,
   "metadata": {
    "collapsed": false
   },
   "outputs": [
    {
     "name": "stdout",
     "output_type": "stream",
     "text": [
      "mean is -0.00000\n",
      "standard deviation is 1.00000\n",
      "mean is 0.00000\n",
      "standard deviation is 1.00000\n",
      "mean is -0.00000\n",
      "standard deviation is 1.00000\n",
      "mean is -0.00000\n",
      "standard deviation is 1.00000\n",
      "1 loop, best of 3: 2.12 s per loop\n"
     ]
    }
   ],
   "source": [
    "%%timeit\n",
    "PHI = rand_num_mm(N, I)\n",
    "print(\"mean is %.5f\" %PHI.mean())\n",
    "print(\"standard deviation is %.5f\" %PHI.std())"
   ]
  },
  {
   "cell_type": "code",
   "execution_count": 46,
   "metadata": {
    "collapsed": false
   },
   "outputs": [
    {
     "name": "stdout",
     "output_type": "stream",
     "text": [
      "mean is -0.00001\n",
      "standard deviation is 1.00012\n",
      "mean is 0.00022\n",
      "standard deviation is 1.00026\n",
      "mean is 0.00009\n",
      "standard deviation is 0.99988\n",
      "mean is -0.00007\n",
      "standard deviation is 1.00002\n",
      "1 loop, best of 3: 1.45 s per loop\n"
     ]
    }
   ],
   "source": [
    "%%timeit\n",
    "PHI = rand_num(N, I)\n",
    "print(\"mean is %.5f\" %PHI.mean())\n",
    "print(\"standard deviation is %.5f\" %PHI.std())"
   ]
  },
  {
   "cell_type": "markdown",
   "metadata": {},
   "source": [
    "Result:\n",
    "\n",
    "Moment matching - mean and std dev always (0,1), but adds run time\n",
    "\n",
    "Antithetic variance reduction - makes mean always 0, with less error in std dev than the normal numpy random number generation, run time is lowest of the three methods\n",
    "\n",
    "Numpy random number generation without adjustment - larger error in mean and std dev with a run time in between the other two methods"
   ]
  },
  {
   "cell_type": "code",
   "execution_count": null,
   "metadata": {
    "collapsed": true
   },
   "outputs": [],
   "source": []
  }
 ],
 "metadata": {
  "kernelspec": {
   "display_name": "Python [Root]",
   "language": "python",
   "name": "Python [Root]"
  },
  "language_info": {
   "codemirror_mode": {
    "name": "ipython",
    "version": 3
   },
   "file_extension": ".py",
   "mimetype": "text/x-python",
   "name": "python",
   "nbconvert_exporter": "python",
   "pygments_lexer": "ipython3",
   "version": "3.5.2"
  }
 },
 "nbformat": 4,
 "nbformat_minor": 0
}
