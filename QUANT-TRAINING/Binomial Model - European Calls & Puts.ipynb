{
 "cells": [
  {
   "cell_type": "code",
   "execution_count": 87,
   "metadata": {
    "collapsed": true
   },
   "outputs": [],
   "source": [
    "import numpy as np\n",
    "import math\n",
    "import xlwings as xw"
   ]
  },
  {
   "cell_type": "code",
   "execution_count": 88,
   "metadata": {
    "collapsed": false
   },
   "outputs": [
    {
     "data": {
      "text/plain": [
       "(1.0079370266644199,\n",
       " 0.9921254736611017,\n",
       " 1.0000500012500209,\n",
       " 0.5011859105336545)"
      ]
     },
     "execution_count": 88,
     "metadata": {},
     "output_type": "execute_result"
    }
   ],
   "source": [
    "#Variables\n",
    "S = 100  #Stock price at t=0\n",
    "r = 0.05  #Risk free rate\n",
    "dt = .001  #Timestep size\n",
    "T = 1  #time to expiry in years\n",
    "sigma = .250\n",
    "E = 110  #Strike Price\n",
    "\n",
    "\n",
    "length = T/dt\n",
    "u = math.exp( sigma * math.sqrt(dt))\n",
    "d = math.exp(- sigma * math.sqrt(dt))\n",
    "a = math.exp( r * dt)\n",
    "p = (a - d) / (u - d)\n",
    "\n",
    "u,d,a,p"
   ]
  },
  {
   "cell_type": "code",
   "execution_count": 89,
   "metadata": {
    "collapsed": false
   },
   "outputs": [],
   "source": [
    "#Create Empty Numpy Arrays to hold the data\n",
    "step_matrix = np.zeros((int(length), int(length+1)))\n",
    "call_option_value_matrix = np.zeros((int(length+1), int(length+1)))\n",
    "put_option_value_matrix = np.zeros((int(length+1), int(length+1)))\n",
    "\n",
    "stock_value_matrix = np.zeros((int(length+1), int(length+1)))\n",
    "#Set initial value for the stock\n",
    "stock_value_matrix[0,0] = S"
   ]
  },
  {
   "cell_type": "code",
   "execution_count": 90,
   "metadata": {
    "collapsed": false
   },
   "outputs": [],
   "source": [
    "#Create binomial tree of the pricing of the underlying\n",
    "for x in range(1,int(length+1)):\n",
    "    stock_value_matrix[x,0] = stock_value_matrix[x-1,0]*(d)\n",
    "    for y in range(1,int(length+1)):\n",
    "        stock_value_matrix[x,y] = stock_value_matrix[x-1,y-1]*(u)\n",
    "#xw.view(value_matrix)\n",
    "#stock_value_matrix"
   ]
  },
  {
   "cell_type": "code",
   "execution_count": 91,
   "metadata": {
    "collapsed": false
   },
   "outputs": [],
   "source": [
    "#Create Option Valuation Tree Call Option\n",
    "for x in range(1, int(length+1)):\n",
    "    for y in range(0, int(length+1)):\n",
    "        if stock_value_matrix[-x , y]-E > 0:\n",
    "            call_option_value_matrix[-x, y] = stock_value_matrix[-x , y] - E\n",
    "        else:\n",
    "            call_option_value_matrix[-x , y] = 0\n",
    "            \n",
    "#Create Option Valuation Tree Put Option\n",
    "for x in range(1, int(length+1)):\n",
    "    for y in range(0, int(length+1)):\n",
    "        if E - stock_value_matrix[-x , y] > 0:\n",
    "            put_option_value_matrix[-x, y] = E - stock_value_matrix[-x , y]\n",
    "        else:\n",
    "            put_option_value_matrix[-x , y] = 0"
   ]
  },
  {
   "cell_type": "code",
   "execution_count": 92,
   "metadata": {
    "collapsed": false
   },
   "outputs": [
    {
     "name": "stdout",
     "output_type": "stream",
     "text": [
      "Value of Call Option Binomial = 8.0241 \n",
      "Value of Put Option Binomial =  12.6593 \n"
     ]
    }
   ],
   "source": [
    "call_payoff_matrix = np.zeros((int(length+1), int(length+1)))\n",
    "call_payoff_matrix[-1] = call_option_value_matrix[-1]\n",
    "count = 0\n",
    "for x in range(1,int(length+1)):\n",
    "    count += 1\n",
    "    for y in range(count, int(length+1)):\n",
    "        call_payoff_matrix[-x-1,-y-1] = math.exp(-r*dt)*((p*call_payoff_matrix[-x,-y])+((1-p)*call_payoff_matrix[-x,-y-1]))\n",
    "\n",
    "put_payoff_matrix = np.zeros((int(length+1), int(length+1)))\n",
    "put_payoff_matrix[-1] = put_option_value_matrix[-1]\n",
    "count = 0\n",
    "for x in range(1,int(length+1)):\n",
    "    count += 1\n",
    "    for y in range(count, int(length+1)):\n",
    "        put_payoff_matrix[-x-1,-y-1] = math.exp(-r*dt)*((p*put_payoff_matrix[-x,-y])+((1-p)*put_payoff_matrix[-x,-y-1]))\n",
    "\n",
    "#xw.view(put_payoff_matrix)\n",
    "#xw.view(call_payoff_matrix)\n",
    "call_value = call_payoff_matrix[0,0]\n",
    "put_value = put_payoff_matrix[0,0]\n",
    "\n",
    "print(\"Value of Call Option Binomial = %.4f \" %call_value)\n",
    "print(\"Value of Put Option Binomial =  %.4f \" %put_value)"
   ]
  },
  {
   "cell_type": "code",
   "execution_count": 93,
   "metadata": {
    "collapsed": true
   },
   "outputs": [],
   "source": [
    "#Module Imports\n",
    "import scipy as sp\n",
    "from scipy import stats"
   ]
  },
  {
   "cell_type": "code",
   "execution_count": 94,
   "metadata": {
    "collapsed": true
   },
   "outputs": [],
   "source": [
    "'''DEFINITION OF VARIABLES\n",
    "    S0 - Stock Price at T=0\n",
    "    E - Strike Price\n",
    "    T - Time in Years\n",
    "    R - Risk Free Rate\n",
    "    SIGMA - Volatility\n",
    "    DT - Time Step = T/N\n",
    "    DF - Discount Factor = e^-RT\n",
    "'''\n",
    "\n",
    "S0 = S\n",
    "E = E\n",
    "T = T\n",
    "R = r\n",
    "SIGMA = sigma"
   ]
  },
  {
   "cell_type": "code",
   "execution_count": 95,
   "metadata": {
    "collapsed": true
   },
   "outputs": [],
   "source": [
    "'''BSM VANILLA EUROPEAN OPTION VALUE CALCULATION'''\n",
    "def bsm_option_value(S0, E, T, R, SIGMA):   \n",
    "    S0 = float(S0)\n",
    "    d1 = (math.log(S0/E)+(R+0.5*SIGMA**2)*T)/(SIGMA*math.sqrt(T))\n",
    "    d2 = d1-(SIGMA*math.sqrt(T))\n",
    "    \n",
    "    call_value = S0*stats.norm.cdf(d1,0,1) - E*math.exp(-R*T)*stats.norm.cdf(d2,0,1)\n",
    "    \n",
    "    put_value =  E*math.exp(-R*T)*stats.norm.cdf(-d2,0,1) - (S0*stats.norm.cdf(-d1,0,1))\n",
    "\n",
    "    print(\"Value of Call Option BSM =  \" + str(call_value))\n",
    "    print(\"Value of Put Option BSM =  \" + str(put_value))\n",
    "    return"
   ]
  },
  {
   "cell_type": "code",
   "execution_count": 96,
   "metadata": {
    "collapsed": false
   },
   "outputs": [
    {
     "name": "stdout",
     "output_type": "stream",
     "text": [
      "Value of Call Option BSM =  8.02638469385\n",
      "Value of Put Option BSM =  12.6616213889\n"
     ]
    }
   ],
   "source": [
    "bsm_option_value(S0, E, T, R, SIGMA)"
   ]
  },
  {
   "cell_type": "code",
   "execution_count": null,
   "metadata": {
    "collapsed": true
   },
   "outputs": [],
   "source": []
  }
 ],
 "metadata": {
  "anaconda-cloud": {},
  "kernelspec": {
   "display_name": "Python [Root]",
   "language": "python",
   "name": "Python [Root]"
  },
  "language_info": {
   "codemirror_mode": {
    "name": "ipython",
    "version": 3
   },
   "file_extension": ".py",
   "mimetype": "text/x-python",
   "name": "python",
   "nbconvert_exporter": "python",
   "pygments_lexer": "ipython3",
   "version": "3.5.2"
  }
 },
 "nbformat": 4,
 "nbformat_minor": 0
}
