{
 "cells": [
  {
   "cell_type": "code",
   "execution_count": 9,
   "metadata": {
    "collapsed": true
   },
   "outputs": [],
   "source": [
    "#Module Imports\n",
    "import numpy as np\n",
    "import numpy.random as npr\n",
    "import math\n",
    "from pylab import *\n",
    "import matplotlib.pyplot as plt\n",
    "import scipy as sp\n",
    "from scipy import stats\n",
    "import time"
   ]
  },
  {
   "cell_type": "code",
   "execution_count": 10,
   "metadata": {
    "collapsed": true
   },
   "outputs": [],
   "source": [
    "'''DEFINITION OF VARIABLES\n",
    "    S0 - Stock Price at T=0\n",
    "    E - Strike Price\n",
    "    T - Time in Years\n",
    "    R - Risk Free Rate\n",
    "    SIGMA - Volatility\n",
    "    DT - Time Step = T/N\n",
    "    DF - Discount Factor = e^-RT\n",
    "    I - Number of Simulations\n",
    "    P - Discrete Sampling Frequency for Asian Options \n",
    "        252/Annual, 126/SemiAnnual, 63/Quarterly, 21/Monthly, 1/Continuous\n",
    "'''\n",
    "\n",
    "S0 = 100\n",
    "E=100\n",
    "T=1\n",
    "R=0.05\n",
    "SIGMA=0.20\n",
    "I=100000\n",
    "P= 21 #Discrete Sampling Frequency 252/Annual, 126/SemiAnnual, 63/Quarterly, 21/Monthly, 1/Continuous\n",
    "N=252"
   ]
  },
  {
   "cell_type": "code",
   "execution_count": 11,
   "metadata": {
    "collapsed": true
   },
   "outputs": [],
   "source": [
    "'''OPTION VALUATION - MONTE CARLO SIMULATION W/ ANTITHETIC VARIANCE REDUCTION W/ MILSTEIN SCHEME '''\n",
    "def option_valuation_Milstein(S0, E, T, N, SIGMA, R, I, P):    \n",
    "    DT = T/N   #Time Step   \n",
    "#GENERATE RANDOM NUMBERS - ANTITHETIC VARIANCE REDUCTION\n",
    "    PHI = npr.standard_normal((N,int(I/2))) \n",
    "    PHI = np.concatenate((PHI, -PHI), axis=1)     \n",
    "#SET UP EMPTY ARRAYS AND SET INITIAL VALUES    \n",
    "    S = np.zeros_like(PHI)  #Array to Capture Asset Value Path\n",
    "    S[0] = S0\n",
    "    \n",
    "#CREATE FOR LOOP TO GENERATE SIMULATION PATHS - MILSTEIN METHOD\n",
    "    for t in range (1,N):\n",
    "        S[t]=S[t-1]*(1+R*DT+(SIGMA*PHI[t]*np.sqrt(DT))+(SIGMA**2)*(0.5*(((PHI[t]**2)-1)*DT)))\n",
    "    \n",
    "    return S"
   ]
  },
  {
   "cell_type": "code",
   "execution_count": 12,
   "metadata": {
    "collapsed": false
   },
   "outputs": [
    {
     "name": "stdout",
     "output_type": "stream",
     "text": [
      "Number of Simulations 100000\n",
      "Value of Call Option Monte Carlo W/ Milstein = 10.422\n",
      "Value of Put Option Monte Carlo W/ Milstein = 5.567\n",
      "Number of Simulations 100000\n",
      "Value of Call Option Monte Carlo W/ Milstein = 10.387\n",
      "Value of Put Option Monte Carlo W/ Milstein = 5.546\n",
      "Number of Simulations 100000\n",
      "Value of Call Option Monte Carlo W/ Milstein = 10.341\n",
      "Value of Put Option Monte Carlo W/ Milstein = 5.515\n",
      "1 loop, best of 3: 1.51 s per loop\n"
     ]
    }
   ],
   "source": [
    "%%timeit -n1\n",
    "#Calculation of Discounted Expected Payoff\n",
    "S = option_valuation_Milstein(S0, E, T, N, SIGMA, R, I, P)\n",
    "\n",
    "DF = math.exp(-R*T)  #Discount Factor\n",
    "\n",
    "print(\"Number of Simulations %.d\" %I)\n",
    "\n",
    "Call_Value = DF * np.sum(np.maximum(S[-1] - E, 0)) / I\n",
    "print( \"Value of Call Option Monte Carlo W/ Milstein = %.3f\" %Call_Value)\n",
    "Put_Value = DF * np.sum(np.maximum(E - S[-1], 0)) / I\n",
    "print( \"Value of Put Option Monte Carlo W/ Milstein = %.3f\" %Put_Value)"
   ]
  },
  {
   "cell_type": "code",
   "execution_count": 13,
   "metadata": {
    "collapsed": true
   },
   "outputs": [],
   "source": [
    "'''OPTION VALUATION - MONTE CARLO SIMULATION W/ ANTITHETIC VARIANCE REDUCTION W/O MILSTEIN SCHEME '''\n",
    "def option_valuation(S0, E, T, N, SIGMA, R, I, P):    \n",
    "    DT = T/N   #Time Step   \n",
    "#GENERATE RANDOM NUMBERS - ANTITHETIC VARIANCE REDUCTION\n",
    "    PHI = npr.standard_normal((N,int(I/2))) \n",
    "    PHI = np.concatenate((PHI, -PHI), axis=1)     \n",
    "#SET UP EMPTY ARRAYS AND SET INITIAL VALUES    \n",
    "    S = np.zeros_like(PHI)  #Array to Capture Asset Value Path\n",
    "    S[0] = S0\n",
    "    \n",
    "#CREATE FOR LOOP TO GENERATE SIMULATION PATHS - EULER-MARUYAMA METHOD\n",
    "    for t in range (1,N):\n",
    "        S[t]=S[t-1]*(1+R*DT+(SIGMA*PHI[t]*np.sqrt(DT)))\n",
    "    \n",
    "    return S"
   ]
  },
  {
   "cell_type": "code",
   "execution_count": 14,
   "metadata": {
    "collapsed": false
   },
   "outputs": [
    {
     "name": "stdout",
     "output_type": "stream",
     "text": [
      "Number of Simulations 100000\n",
      "Value of Call Option Euler-Maruyama Method Monte Carlo = 10.407\n",
      "Value of Put Option Euler-Maruyama Method Monte Carlo = 5.563\n",
      "Number of Simulations 100000\n",
      "Value of Call Option Euler-Maruyama Method Monte Carlo = 10.447\n",
      "Value of Put Option Euler-Maruyama Method Monte Carlo = 5.579\n",
      "Number of Simulations 100000\n",
      "Value of Call Option Euler-Maruyama Method Monte Carlo = 10.456\n",
      "Value of Put Option Euler-Maruyama Method Monte Carlo = 5.583\n",
      "1 loop, best of 3: 1.08 s per loop\n"
     ]
    }
   ],
   "source": [
    "%%timeit -n1\n",
    "#Calculation of Discounted Expected Payoff\n",
    "S = option_valuation(S0, E, T, N, SIGMA, R, I, P)\n",
    "\n",
    "DF = math.exp(-R*T)  #Discount Factor\n",
    "\n",
    "print(\"Number of Simulations %.d\" %I)\n",
    "\n",
    "Call_Value = DF * np.sum(np.maximum(S[-1] - E, 0)) / I\n",
    "print( \"Value of Call Option Euler-Maruyama Method Monte Carlo = %.3f\" %Call_Value)\n",
    "Put_Value = DF * np.sum(np.maximum(E - S[-1], 0)) / I\n",
    "print( \"Value of Put Option Euler-Maruyama Method Monte Carlo = %.3f\" %Put_Value)"
   ]
  },
  {
   "cell_type": "code",
   "execution_count": null,
   "metadata": {
    "collapsed": true
   },
   "outputs": [],
   "source": []
  }
 ],
 "metadata": {
  "anaconda-cloud": {},
  "kernelspec": {
   "display_name": "Python [Root]",
   "language": "python",
   "name": "Python [Root]"
  },
  "language_info": {
   "codemirror_mode": {
    "name": "ipython",
    "version": 3
   },
   "file_extension": ".py",
   "mimetype": "text/x-python",
   "name": "python",
   "nbconvert_exporter": "python",
   "pygments_lexer": "ipython3",
   "version": "3.5.2"
  }
 },
 "nbformat": 4,
 "nbformat_minor": 0
}
