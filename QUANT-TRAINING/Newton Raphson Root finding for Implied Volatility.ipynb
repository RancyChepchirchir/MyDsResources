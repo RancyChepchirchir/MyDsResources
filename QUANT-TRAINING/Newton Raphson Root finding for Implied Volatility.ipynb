{
 "cells": [
  {
   "cell_type": "code",
   "execution_count": 1,
   "metadata": {
    "collapsed": true
   },
   "outputs": [],
   "source": [
    "#Module Imports\n",
    "import math\n",
    "import scipy as sp\n",
    "from scipy import stats"
   ]
  },
  {
   "cell_type": "code",
   "execution_count": 2,
   "metadata": {
    "collapsed": true
   },
   "outputs": [],
   "source": [
    "'''\n",
    "    DEFINITION OF VARIABLES\n",
    "    S0 - Stock Price at T=0\n",
    "    E - Strike Price\n",
    "    T - Time in Years\n",
    "    R - Risk Free Rate\n",
    "'''\n",
    "S0 = 100\n",
    "E=100\n",
    "T=1\n",
    "R=0.005276"
   ]
  },
  {
   "cell_type": "code",
   "execution_count": 3,
   "metadata": {
    "collapsed": true
   },
   "outputs": [],
   "source": [
    "'''BSM VANILLA EUROPEAN OPTION VALUE CALCULATION'''\n",
    "def bsm_option_value(S0, E, T, R, SIGMA):   \n",
    "    S0 = float(S0)\n",
    "    d1 = (math.log(S0/E)+(R+0.05*SIGMA**2)*T)/(SIGMA*math.sqrt(T))\n",
    "    d2 = d1-(SIGMA*math.sqrt(T))\n",
    "    \n",
    "    call_value = S0*stats.norm.cdf(d1,0,1) - E*math.exp(-R*T)*stats.norm.cdf(d2,0,1)\n",
    "    put_value =  E*math.exp(-R*T)*stats.norm.cdf(-d2,0,1) - (S0*stats.norm.cdf(-d1,0,1))\n",
    "    return d1, call_value, put_value"
   ]
  },
  {
   "cell_type": "code",
   "execution_count": 4,
   "metadata": {
    "collapsed": false
   },
   "outputs": [],
   "source": [
    "def call_implied_vol(call_price):\n",
    "    CALL_SIGMA = 1  #initial estimate for sigma\n",
    "    count = 10000  #number of attempts to find value\n",
    "\n",
    "    #first attempt to set parameters\n",
    "    d1, call_value, put_value = bsm_option_value(S0, E, T, R, CALL_SIGMA)\n",
    "    var = abs(call_value - call_price)\n",
    "\n",
    "    while var > .003 and count > 0:\n",
    "        VEGA = math.sqrt(T)*S0*stats.norm.pdf(d1,0,1)\n",
    "        CALL_SIGMA = CALL_SIGMA - ((call_value / VEGA)/100)\n",
    "        d1, call_value, put_value = bsm_option_value(S0, E, T, R, CALL_SIGMA)\n",
    "        var = abs((call_value - call_price)/call_value)\n",
    "        count = count - 1  \n",
    "    return CALL_SIGMA"
   ]
  },
  {
   "cell_type": "code",
   "execution_count": 5,
   "metadata": {
    "collapsed": false
   },
   "outputs": [],
   "source": [
    "def put_implied_vol(put_price):\n",
    "    PUT_SIGMA = 1 #initial estimate for sigma\n",
    "    count = 10000  #number of attempts to find value\n",
    "\n",
    "    #first attempt to set parameters\n",
    "    d1, call_value, put_value = bsm_option_value(S0, E, T, R, PUT_SIGMA)\n",
    "    var = abs(put_value - put_price)\n",
    "\n",
    "    while var > .003 and count > 0:\n",
    "        VEGA = math.sqrt(T)*S0*stats.norm.pdf(d1,0,1)\n",
    "        PUT_SIGMA = PUT_SIGMA - ((put_value / VEGA)/100)\n",
    "        d1, call_value, put_value = bsm_option_value(S0, E, T, R, PUT_SIGMA)\n",
    "        var = abs((put_value - put_price)/put_value)\n",
    "        count = count - 1\n",
    "    return PUT_SIGMA"
   ]
  },
  {
   "cell_type": "code",
   "execution_count": 6,
   "metadata": {
    "collapsed": false
   },
   "outputs": [
    {
     "name": "stdout",
     "output_type": "stream",
     "text": [
      "Implied Volatility 0.7540\n"
     ]
    }
   ],
   "source": [
    "#input observed call option price to calculate implied volatility\n",
    "call_price = 28.00\n",
    "CALL_SIGMA = call_implied_vol(call_price)\n",
    "\n",
    "print(\"Implied Volatility %.4f\" %CALL_SIGMA)"
   ]
  },
  {
   "cell_type": "code",
   "execution_count": 7,
   "metadata": {
    "collapsed": false
   },
   "outputs": [
    {
     "name": "stdout",
     "output_type": "stream",
     "text": [
      "Implied Volatility 0.4470\n"
     ]
    }
   ],
   "source": [
    "#input observed put option price to calculate implied volatility\n",
    "put_price = 17.00\n",
    "PUT_SIGMA = put_implied_vol(put_price)\n",
    "\n",
    "print(\"Implied Volatility %.4f\" %PUT_SIGMA)"
   ]
  },
  {
   "cell_type": "code",
   "execution_count": 8,
   "metadata": {
    "collapsed": false
   },
   "outputs": [
    {
     "name": "stdout",
     "output_type": "stream",
     "text": [
      "BSM Call Value 28.00\n",
      "Variance to Root Finding 0.002\n",
      "BSM Put Value 17.03\n",
      "Variance to Root Finding 0.028\n"
     ]
    }
   ],
   "source": [
    "#Validation - Calculates BSM Values using the calculated implied volatility\n",
    "d1, call_value, put_value = bsm_option_value(S0, E, T, R, CALL_SIGMA)\n",
    "print(\"BSM Call Value %.2f\" %call_value)\n",
    "call_diff = call_value - call_price\n",
    "print(\"Variance to Root Finding %.3f\" %call_diff)\n",
    "d1, call_value, put_value = bsm_option_value(S0, E, T, R, PUT_SIGMA)\n",
    "print(\"BSM Put Value %.2f\" %put_value)\n",
    "put_diff = put_value - put_price\n",
    "print(\"Variance to Root Finding %.3f\" %put_diff)\n"
   ]
  },
  {
   "cell_type": "code",
   "execution_count": 9,
   "metadata": {
    "collapsed": true
   },
   "outputs": [],
   "source": [
    "#scipy root finding function\n",
    "from scipy import optimize"
   ]
  },
  {
   "cell_type": "code",
   "execution_count": 10,
   "metadata": {
    "collapsed": true
   },
   "outputs": [],
   "source": [
    "def optimize_function_call(CALL_SIGMA):\n",
    "    d1, call_value, put_value = bsm_option_value(S0, E, T, R, CALL_SIGMA)\n",
    "    var = abs(call_value - call_price)\n",
    "    return var"
   ]
  },
  {
   "cell_type": "code",
   "execution_count": 11,
   "metadata": {
    "collapsed": true
   },
   "outputs": [],
   "source": [
    "def optimize_function_put(PUT_SIGMA):\n",
    "    d1, call_value, put_value = bsm_option_value(S0, E, T, R, PUT_SIGMA)\n",
    "    var = abs(put_value - put_price)\n",
    "    return var"
   ]
  },
  {
   "cell_type": "code",
   "execution_count": 12,
   "metadata": {
    "collapsed": false
   },
   "outputs": [
    {
     "name": "stdout",
     "output_type": "stream",
     "text": [
      "Implied Volatility 0.7540\n"
     ]
    }
   ],
   "source": [
    "opt_call = sp.optimize.fsolve(optimize_function_call, 1)\n",
    "print(\"Implied Volatility %.4f\" %opt_call[0])"
   ]
  },
  {
   "cell_type": "code",
   "execution_count": 13,
   "metadata": {
    "collapsed": false
   },
   "outputs": [
    {
     "name": "stdout",
     "output_type": "stream",
     "text": [
      "Implied Volatility 0.4462\n"
     ]
    }
   ],
   "source": [
    "opt_put = sp.optimize.fsolve(optimize_function_put, 1)\n",
    "print(\"Implied Volatility %.4f\" %opt_put[0])"
   ]
  }
 ],
 "metadata": {
  "anaconda-cloud": {},
  "kernelspec": {
   "display_name": "Python [Root]",
   "language": "python",
   "name": "Python [Root]"
  },
  "language_info": {
   "codemirror_mode": {
    "name": "ipython",
    "version": 3
   },
   "file_extension": ".py",
   "mimetype": "text/x-python",
   "name": "python",
   "nbconvert_exporter": "python",
   "pygments_lexer": "ipython3",
   "version": "3.5.2"
  }
 },
 "nbformat": 4,
 "nbformat_minor": 0
}
