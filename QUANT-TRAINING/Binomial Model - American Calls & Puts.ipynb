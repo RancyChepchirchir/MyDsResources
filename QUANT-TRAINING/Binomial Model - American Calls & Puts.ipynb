{
 "cells": [
  {
   "cell_type": "code",
   "execution_count": 1,
   "metadata": {
    "collapsed": true
   },
   "outputs": [],
   "source": [
    "import numpy as np\n",
    "import math\n",
    "import xlwings as xw"
   ]
  },
  {
   "cell_type": "code",
   "execution_count": 2,
   "metadata": {
    "collapsed": false
   },
   "outputs": [
    {
     "data": {
      "text/plain": [
       "(1.0253151205244289, 0.9753099120283326, 1.0005001250208359, 0.503751784066049)"
      ]
     },
     "execution_count": 2,
     "metadata": {},
     "output_type": "execute_result"
    }
   ],
   "source": [
    "#Variables\n",
    "S = 100 #Stock price at t=0\n",
    "r = 0.05  #Risk free rate\n",
    "dt = .01  #Timestep size\n",
    "T = 1  #time to expiry in years\n",
    "sigma = .250\n",
    "E = 100  #Strike Price\n",
    "\n",
    "length = T/dt\n",
    "u = math.exp( sigma * math.sqrt(dt))\n",
    "d = math.exp(- sigma * math.sqrt(dt))\n",
    "a = math.exp( r * dt)\n",
    "p = (a - d) / (u - d)\n",
    "\n",
    "u,d,a,p"
   ]
  },
  {
   "cell_type": "code",
   "execution_count": 3,
   "metadata": {
    "collapsed": false
   },
   "outputs": [],
   "source": [
    "#Create Empty Numpy Arrays to hold the data\n",
    "step_matrix = np.zeros((int(length), int(length+1)))\n",
    "call_option_value_matrix = np.zeros((int(length+1), int(length+1)))\n",
    "put_option_value_matrix = np.zeros((int(length+1), int(length+1)))\n",
    "\n",
    "stock_value_matrix = np.zeros((int(length+1), int(length+1)))\n",
    "#Set initial value for the stock\n",
    "stock_value_matrix[0,0] = S"
   ]
  },
  {
   "cell_type": "code",
   "execution_count": 4,
   "metadata": {
    "collapsed": false
   },
   "outputs": [],
   "source": [
    "#Create binomial tree of the pricing of the underlying\n",
    "for x in range(1,int(length+1)):\n",
    "    stock_value_matrix[x,0] = stock_value_matrix[x-1,0]*(d)\n",
    "    for y in range(1,int(length+1)):\n",
    "        stock_value_matrix[x,y] = stock_value_matrix[x-1,y-1]*(u)\n",
    "#xw.view(value_matrix)\n",
    "#stock_value_matrix"
   ]
  },
  {
   "cell_type": "code",
   "execution_count": 5,
   "metadata": {
    "collapsed": false
   },
   "outputs": [],
   "source": [
    "#Create Option Valuation Tree Call Option\n",
    "for x in range(1, int(length+1)):\n",
    "    for y in range(0, int(length+1)):\n",
    "        if stock_value_matrix[-x , y] - E > 0:\n",
    "            call_option_value_matrix[-x, y] = stock_value_matrix[-x , y] - E\n",
    "        else:\n",
    "            call_option_value_matrix[-x , y] = 0\n",
    "#xw.view(call_option_value_matrix)\n",
    "            \n",
    "#Create Option Valuation Tree Put Option\n",
    "for x in range(1, int(length+1)):\n",
    "    for y in range(0, int(length+1)):\n",
    "        if E - stock_value_matrix[-x , y] > 0:\n",
    "            put_option_value_matrix[-x, y] = E - stock_value_matrix[-x , y]\n",
    "        else:\n",
    "            put_option_value_matrix[-x , y] = 0"
   ]
  },
  {
   "cell_type": "code",
   "execution_count": 6,
   "metadata": {
    "collapsed": false
   },
   "outputs": [
    {
     "name": "stdout",
     "output_type": "stream",
     "text": [
      "Value of Call Option Binomial = 12.3113 \n",
      "Value of Put Option Binomial =  7.9636 \n"
     ]
    }
   ],
   "source": [
    "call_payoff_matrix = np.zeros((int(length+1), int(length+1)))\n",
    "call_payoff_matrix[-1] = call_option_value_matrix[-1]\n",
    "count = 0\n",
    "for x in range(1,int(length+1)):\n",
    "    count += 1\n",
    "    for y in range(count, int(length+1)):\n",
    "        call_payoff_matrix[-x-1,-y-1] = math.exp(-r*dt)*((p*call_payoff_matrix[-x,-y])+((1-p)*call_payoff_matrix[-x,-y-1]))\n",
    "        if call_payoff_matrix[-x-1,-y-1] < call_option_value_matrix[-x-1,-y-1]:\n",
    "            call_payoff_matrix[-x-1,-y-1] = call_option_value_matrix[-x-1,-y-1]\n",
    "        \n",
    "put_payoff_matrix = np.zeros((int(length+1), int(length+1)))\n",
    "put_payoff_matrix[-1] = put_option_value_matrix[-1]\n",
    "count = 0\n",
    "for x in range(1,int(length+1)):\n",
    "    count += 1\n",
    "    for y in range(count, int(length+1)):\n",
    "        put_payoff_matrix[-x-1,-y-1] = math.exp(-r*dt)*((p*put_payoff_matrix[-x,-y])+((1-p)*put_payoff_matrix[-x,-y-1]))\n",
    "        if put_payoff_matrix[-x-1,-y-1] < put_option_value_matrix[-x-1,-y-1]:\n",
    "            put_payoff_matrix[-x-1,-y-1] = put_option_value_matrix[-x-1,-y-1]\n",
    "#xw.view(put_payoff_matrix)\n",
    "xw.view(call_payoff_matrix)\n",
    "call_value = call_payoff_matrix[0,0]\n",
    "put_value = put_payoff_matrix[0,0]\n",
    "\n",
    "print(\"Value of Call Option Binomial = %.4f \" %call_value)\n",
    "print(\"Value of Put Option Binomial =  %.4f \" %put_value)"
   ]
  },
  {
   "cell_type": "code",
   "execution_count": null,
   "metadata": {
    "collapsed": true
   },
   "outputs": [],
   "source": []
  }
 ],
 "metadata": {
  "anaconda-cloud": {},
  "kernelspec": {
   "display_name": "Python [Root]",
   "language": "python",
   "name": "Python [Root]"
  },
  "language_info": {
   "codemirror_mode": {
    "name": "ipython",
    "version": 3
   },
   "file_extension": ".py",
   "mimetype": "text/x-python",
   "name": "python",
   "nbconvert_exporter": "python",
   "pygments_lexer": "ipython3",
   "version": "3.5.2"
  }
 },
 "nbformat": 4,
 "nbformat_minor": 0
}
