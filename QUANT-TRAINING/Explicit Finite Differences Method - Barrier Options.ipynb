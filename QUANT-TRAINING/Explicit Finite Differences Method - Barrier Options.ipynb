{
 "cells": [
  {
   "cell_type": "markdown",
   "metadata": {},
   "source": [
    "Explicit Finite Differences Method for Option Valuation\n",
    "\n",
    "Includes Call and Puts / American and European"
   ]
  },
  {
   "cell_type": "code",
   "execution_count": 1,
   "metadata": {
    "collapsed": true
   },
   "outputs": [],
   "source": [
    "import math\n",
    "import numpy as np\n",
    "import pandas as pd\n",
    "import xlwings as xw\n",
    "import scipy as sp\n",
    "from scipy import stats\n",
    "import matplotlib as plt"
   ]
  },
  {
   "cell_type": "code",
   "execution_count": 2,
   "metadata": {
    "collapsed": true
   },
   "outputs": [],
   "source": [
    "T = 1  #Time to Expiry in Years\n",
    "E = 100  #Strike\n",
    "r = .05  #Risk Free Rate\n",
    "SIGMA = .20  #Volatility\n",
    "\n",
    "#Up out Out Call - Set Barrier_Call to barrier value and set Type to True\n",
    "#Down and Out Call - Set Barrier_Put to barrier value and set Type to True\n",
    "\n",
    "#Down and Out Put - Set Barrier_Put to barrier value and set Type to False\n",
    "#Up and Out Put - Set Barrier_Call to barrier value and set Type to False\n",
    "\n",
    "\n",
    "Type = True   #Type of Option True=Call False=Put\n",
    "Ex = False #Early Exercise True=Yes  False=No \n",
    "NAS = 100  #Number of Asset Steps - Higher is more accurate, but more time consuming\n",
    "Barrier_Call = 120  #Ceiling value to Up and Out Barrier Options- Set to zero if not using\n",
    "Barrier_Put  = 0  #Floor value for Down and Out Barrier Options - Set to zero if not using"
   ]
  },
  {
   "cell_type": "code",
   "execution_count": 3,
   "metadata": {
    "collapsed": false
   },
   "outputs": [
    {
     "name": "stdout",
     "output_type": "stream",
     "text": [
      "Asset Step Size 1.20 Time Step Size 0.00 Number of Time Steps 445.00 Number of Asset Steps 100.00\n"
     ]
    }
   ],
   "source": [
    "#Up and Out Call\n",
    "if Barrier_Call > 0 and Type ==True:\n",
    "    ds = Barrier_Call / NAS  #Asset Value Step Size\n",
    "#Down and Out Call\n",
    "if Barrier_Put > 0 and Type ==True:\n",
    "    ds = ds = 2 * E / NAS  #Asset Value Step Size\n",
    "#Up and Out Put\n",
    "if Barrier_Call > 0 and Type ==False:\n",
    "    ds = Barrier_Call / NAS  #Asset Value Step Size\n",
    "#Down and Out Put\n",
    "if Barrier_Put > 0 and Type == False:\n",
    "    ds = ds = 2 * E / NAS  #Asset Value Step Size\n",
    "\n",
    "dt = (0.9/NAS/NAS/SIGMA/SIGMA)  #Time Step Size\n",
    "NTS = int(T / dt) + 1  #Number of Time Steps\n",
    "dt = T / NTS #Time Step Size\n",
    "print(\"Asset Step Size %.2f Time Step Size %.2f Number of Time Steps %.2f Number of Asset Steps %.2f\" %(ds, dt, NTS, NAS))"
   ]
  },
  {
   "cell_type": "code",
   "execution_count": 4,
   "metadata": {
    "collapsed": false
   },
   "outputs": [],
   "source": [
    "#Setup Empty numpy Arrays\n",
    "value_matrix = np.zeros((int(NAS+1), int(NTS)))\n",
    "asset_price = np.arange(NAS*ds,-1,-ds)"
   ]
  },
  {
   "cell_type": "code",
   "execution_count": 5,
   "metadata": {
    "collapsed": false
   },
   "outputs": [],
   "source": [
    "#Evaluate Terminal Value for Calls or Puts\n",
    "if Type == True:\n",
    "    value_matrix[:,-1]= np.maximum(asset_price - E,0)\n",
    "else:\n",
    "    value_matrix[:,-1]= np.maximum(E - asset_price,0)"
   ]
  },
  {
   "cell_type": "code",
   "execution_count": 6,
   "metadata": {
    "collapsed": false
   },
   "outputs": [],
   "source": [
    "#Set Lower Boundry in Grid\n",
    "if Barrier_Put > 0:\n",
    "    for x in range(1,NTS):\n",
    "        value_matrix[-1,-x-1] = 0\n",
    "else:\n",
    "    for x in range(1,NTS):\n",
    "        value_matrix[-1,-x-1] = value_matrix[-1,-x]* math.exp(-r*dt)"
   ]
  },
  {
   "cell_type": "code",
   "execution_count": 7,
   "metadata": {
    "collapsed": false
   },
   "outputs": [],
   "source": [
    "#Set Mid and Ceiling Values in Grid\n",
    "for x in range(1,int(NTS)):\n",
    "\n",
    "    for y in range(1,int(NAS)):\n",
    "        #Evaluate Option Greeks\n",
    "        Delta = (value_matrix[y-1,-x] - value_matrix[y+1,-x]) / 2 / ds\n",
    "        Gamma = (value_matrix[y-1,-x] - (2 * value_matrix[y,-x]) + value_matrix[y+1,-x]) / ds / ds\n",
    "        Theta = (-.5 * SIGMA**2 * asset_price[y]**2 * Gamma) - (r * asset_price[y] * Delta) + (r * value_matrix[y,-x])\n",
    "        \n",
    "        #Set Mid Values\n",
    "        value_matrix[y,-x-1] = value_matrix[y,-x] - Theta * dt\n",
    "        if Ex == True:\n",
    "            value_matrix[y,-x-1] = np.maximum(value_matrix[y,-x-1], value_matrix[y,-1])\n",
    "        if Barrier_Put > 0:\n",
    "            if asset_price[y] < Barrier_Put:\n",
    "                value_matrix[y,-x-1] = 0\n",
    "          \n",
    "\n",
    "        #Set Ceiling Value\n",
    "        if Barrier_Call > 0:\n",
    "            value_matrix[0,-x-1] = 0\n",
    "        else:\n",
    "            value_matrix[0,-x-1] = 2 * value_matrix[1,-x-1] - value_matrix[2,-x-1] \n",
    "        \n",
    "#Export Value Grid to Excel via xlWings\n",
    "#xw.view(value_matrix)"
   ]
  },
  {
   "cell_type": "code",
   "execution_count": 8,
   "metadata": {
    "collapsed": false
   },
   "outputs": [],
   "source": [
    "#Option Valuation Profile in pandas - Index is Strike Price, column 0 is the option price\n",
    "value_df = pd.DataFrame(value_matrix)\n",
    "value_df = value_df.set_index(asset_price)\n",
    "\n",
    "#Export Value Grid to Excel via xlWings\n",
    "#xw.view(value_df)"
   ]
  },
  {
   "cell_type": "code",
   "execution_count": 9,
   "metadata": {
    "collapsed": false
   },
   "outputs": [
    {
     "data": {
      "text/plain": [
       "<matplotlib.axes._subplots.AxesSubplot at 0x25d0d9daa20>"
      ]
     },
     "execution_count": 9,
     "metadata": {},
     "output_type": "execute_result"
    },
    {
     "data": {
      "image/png": "[encoded data removed]",
      "text/plain": [
       "<matplotlib.figure.Figure at 0x25d0d9ccf28>"
      ]
     },
     "metadata": {},
     "output_type": "display_data"
    }
   ],
   "source": [
    "%matplotlib inline\n",
    "#Payoff Plot\n",
    "plot_df = value_df.sort_index(ascending=True)\n",
    "plot_df[0].plot()"
   ]
  },
  {
   "cell_type": "code",
   "execution_count": null,
   "metadata": {
    "collapsed": true
   },
   "outputs": [],
   "source": []
  }
 ],
 "metadata": {
  "anaconda-cloud": {},
  "kernelspec": {
   "display_name": "Python [Root]",
   "language": "python",
   "name": "Python [Root]"
  },
  "language_info": {
   "codemirror_mode": {
    "name": "ipython",
    "version": 3
   },
   "file_extension": ".py",
   "mimetype": "text/x-python",
   "name": "python",
   "nbconvert_exporter": "python",
   "pygments_lexer": "ipython3",
   "version": "3.5.2"
  }
 },
 "nbformat": 4,
 "nbformat_minor": 0
}
