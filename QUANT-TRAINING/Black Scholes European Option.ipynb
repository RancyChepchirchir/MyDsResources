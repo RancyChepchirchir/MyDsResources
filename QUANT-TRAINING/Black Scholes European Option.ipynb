{
 "cells": [
  {
   "cell_type": "code",
   "execution_count": null,
   "metadata": {
    "collapsed": true
   },
   "outputs": [],
   "source": [
    "#Module Imports\n",
    "import math\n",
    "import scipy as sp\n",
    "from scipy import stats"
   ]
  },
  {
   "cell_type": "code",
   "execution_count": null,
   "metadata": {
    "collapsed": true
   },
   "outputs": [],
   "source": [
    "'''DEFINITION OF VARIABLES\n",
    "    S0 - Stock Price at T=0\n",
    "    E - Strike Price\n",
    "    T - Time in Years\n",
    "    R - Risk Free Rate\n",
    "    SIGMA - Volatility\n",
    "    DT - Time Step = T/N\n",
    "    DF - Discount Factor = e^-RT\n",
    "'''\n",
    "\n",
    "S0 = 100\n",
    "E=100\n",
    "T=1\n",
    "R=0.05\n",
    "SIGMA=0.20"
   ]
  },
  {
   "cell_type": "code",
   "execution_count": null,
   "metadata": {
    "collapsed": true
   },
   "outputs": [],
   "source": [
    "'''BSM VANILLA EUROPEAN OPTION VALUE CALCULATION'''\n",
    "def bsm_option_value(S0, E, T, R, SIGMA):   \n",
    "    S0 = float(S0)\n",
    "    d1 = (log(S0/E)+(R+0.05*SIGMA**2)*T)/(SIGMA*sqrt(T))\n",
    "    d2 = d1-(SIGMA*sqrt(T))\n",
    "    \n",
    "    call_value = S0*stats.norm.cdf(d1,0,1) - E*exp(-R*T)*stats.norm.cdf(d2,0,1)\n",
    "    \n",
    "    put_value =  E*exp(-R*T)*stats.norm.cdf(-d2,0,1) - (S0*stats.norm.cdf(-d1,0,1))\n",
    "\n",
    "    print(\"Value of Call Option BSM =  \" + str(call_value))\n",
    "    print(\"Value of Put Option BSM =  \" + str(put_value))\n",
    "    return"
   ]
  },
  {
   "cell_type": "code",
   "execution_count": null,
   "metadata": {
    "collapsed": false
   },
   "outputs": [],
   "source": [
    "bsm_option_value(S0, E, T, R, SIGMA)"
   ]
  },
  {
   "cell_type": "code",
   "execution_count": null,
   "metadata": {
    "collapsed": true
   },
   "outputs": [],
   "source": []
  }
 ],
 "metadata": {
  "anaconda-cloud": {},
  "kernelspec": {
   "display_name": "Python [Root]",
   "language": "python",
   "name": "Python [Root]"
  },
  "language_info": {
   "codemirror_mode": {
    "name": "ipython",
    "version": 3
   },
   "file_extension": ".py",
   "mimetype": "text/x-python",
   "name": "python",
   "nbconvert_exporter": "python",
   "pygments_lexer": "ipython3",
   "version": "3.5.2"
  }
 },
 "nbformat": 4,
 "nbformat_minor": 0
}
