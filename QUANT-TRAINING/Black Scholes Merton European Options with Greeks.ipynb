{
 "cells": [
  {
   "cell_type": "code",
   "execution_count": 1,
   "metadata": {
    "collapsed": true
   },
   "outputs": [],
   "source": [
    "#Module Imports\n",
    "import math\n",
    "import scipy as sp\n",
    "from scipy import stats"
   ]
  },
  {
   "cell_type": "code",
   "execution_count": 2,
   "metadata": {
    "collapsed": true
   },
   "outputs": [],
   "source": [
    "'''DEFINITION OF VARIABLES\n",
    "    S0 - Stock Price at T=0\n",
    "    E - Strike Price\n",
    "    T - Time in Years\n",
    "    R - Risk Free Rate\n",
    "    SIGMA - Volatility\n",
    "    DT - Time Step = T/N\n",
    "    DF - Discount Factor = e^-RT\n",
    "'''\n",
    "\n",
    "S0 = 100\n",
    "E=100\n",
    "T=1\n",
    "R=0.05\n",
    "SIGMA=0.20"
   ]
  },
  {
   "cell_type": "code",
   "execution_count": 3,
   "metadata": {
    "collapsed": false
   },
   "outputs": [],
   "source": [
    "'''BSM VANILLA EUROPEAN OPTION VALUE CALCULATION'''\n",
    "def bsm_option_value(S0, E, T, R, SIGMA):   \n",
    "    S0 = float(S0)\n",
    "    d1 = (math.log(S0/E)+(R+(0.5*SIGMA**2))*T)/(SIGMA*math.sqrt(T))\n",
    "    d2 = d1-(SIGMA*math.sqrt(T))\n",
    "    call_value = S0*stats.norm.cdf(d1,0,1) - E*math.exp(-R*T)*stats.norm.cdf(d2,0,1)\n",
    "    delta_call = stats.norm.cdf(d1,0,1)\n",
    "    gamma_call = stats.norm.pdf(d1,0,1)/(S0*SIGMA*math.sqrt(T))\n",
    "    theta_call = -(R*E*math.exp(-R*T)*stats.norm.cdf(d2,0,1))-(SIGMA*S0*stats.norm.pdf(d1,0,1)/(2*math.sqrt(T)))\n",
    "    rho_call = T*E*math.exp(-R*T)*stats.norm.cdf(d2,0,1)\n",
    "    vega_call = math.sqrt(T)*S0*stats.norm.pdf(d1,0,1)\n",
    "    \n",
    "    put_value =  E*math.exp(-R*T)*stats.norm.cdf(-d2,0,1) - (S0*stats.norm.cdf(-d1,0,1))\n",
    "    delta_put = -stats.norm.cdf(-d1,0,1)\n",
    "    gamma_put = stats.norm.pdf(d1,0,1)/(S0*SIGMA*math.sqrt(T))\n",
    "    theta_put = (R*E*math.exp(-R*T)*stats.norm.cdf(-d2,0,1))-(SIGMA*S0*stats.norm.pdf(d1,0,1)/(2*math.sqrt(T)))\n",
    "    rho_put = -T*E*math.exp(-R*T)*stats.norm.cdf(-d2,0,1)\n",
    "    vega_put = math.sqrt(T)*S0*stats.norm.pdf(d1,0,1)\n",
    "    \n",
    "    return call_value, delta_call, gamma_call, theta_call, rho_call, vega_call, put_value, delta_put, gamma_put, theta_put, rho_put, vega_put"
   ]
  },
  {
   "cell_type": "code",
   "execution_count": 4,
   "metadata": {
    "collapsed": false
   },
   "outputs": [
    {
     "name": "stdout",
     "output_type": "stream",
     "text": [
      "Value of Call Option BSM = 10.4506 \n",
      "Value of Put Option BSM =  5.5735\n"
     ]
    }
   ],
   "source": [
    "call_value, delta_call, gamma_call, theta_call, rho_call, vega_call, put_value, delta_put, gamma_put, theta_put, rho_put, vega_put = bsm_option_value(S0, E, T, R, SIGMA)\n",
    "print(\"Value of Call Option BSM = %.4f \" %call_value)\n",
    "print(\"Value of Put Option BSM =  %.4f\" %put_value)"
   ]
  },
  {
   "cell_type": "code",
   "execution_count": 5,
   "metadata": {
    "collapsed": false
   },
   "outputs": [
    {
     "name": "stdout",
     "output_type": "stream",
     "text": [
      "Call Delta = 0.6368 \n",
      "Call Gamma = 0.0188 \n",
      "Call Theta = -6.4140 \n",
      "Call Rho = 53.2325 \n",
      "Call Vega = 37.5240 \n",
      "Put Delta = -0.3632 \n",
      "Put Gamma = 0.0188 \n",
      "Put Theta = -1.6579 \n",
      "Put Rho = -41.8905 \n",
      "Put Vega = 37.5240 \n"
     ]
    }
   ],
   "source": [
    "#Calculation of Greeks for Call\n",
    "call_value, delta_call, gamma_call, theta_call, rho_call, vega_call, put_value, delta_put, gamma_put, theta_put, rho_put, vega_put = bsm_option_value(S0, E, T, R, SIGMA)\n",
    "\n",
    "print(\"Call Delta = %.4f \" %delta_call)\n",
    "print(\"Call Gamma = %.4f \" %gamma_call)\n",
    "print(\"Call Theta = %.4f \" %theta_call)\n",
    "print(\"Call Rho = %.4f \" %rho_call)\n",
    "print(\"Call Vega = %.4f \" %vega_call)\n",
    "print(\"Put Delta = %.4f \" %delta_put)\n",
    "print(\"Put Gamma = %.4f \" %gamma_put)\n",
    "print(\"Put Theta = %.4f \" %theta_put)\n",
    "print(\"Put Rho = %.4f \" %rho_put)\n",
    "print(\"Put Vega = %.4f \" %vega_put)\n"
   ]
  },
  {
   "cell_type": "code",
   "execution_count": null,
   "metadata": {
    "collapsed": true
   },
   "outputs": [],
   "source": []
  }
 ],
 "metadata": {
  "anaconda-cloud": {},
  "kernelspec": {
   "display_name": "Python [Root]",
   "language": "python",
   "name": "Python [Root]"
  },
  "language_info": {
   "codemirror_mode": {
    "name": "ipython",
    "version": 3
   },
   "file_extension": ".py",
   "mimetype": "text/x-python",
   "name": "python",
   "nbconvert_exporter": "python",
   "pygments_lexer": "ipython3",
   "version": "3.5.2"
  }
 },
 "nbformat": 4,
 "nbformat_minor": 0
}
