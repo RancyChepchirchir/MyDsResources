{
 "cells": [
  {
   "cell_type": "code",
   "execution_count": 5,
   "metadata": {
    "collapsed": true
   },
   "outputs": [],
   "source": [
    "import numpy as np\n",
    "import pandas as pd\n",
    "import math"
   ]
  },
  {
   "cell_type": "markdown",
   "metadata": {},
   "source": [
    "Calculate implied probability of default from CDS market spreads"
   ]
  },
  {
   "cell_type": "code",
   "execution_count": 6,
   "metadata": {
    "collapsed": true
   },
   "outputs": [],
   "source": [
    "#Determining the implied probability of default in CDS from observed market spreads\n",
    "def CDS_Implied_PD(R, T, dt, N, RR, Lam, Mkt_Spread):\n",
    "    #Create empty data frame and create index by period\n",
    "    df= pd.DataFrame()\n",
    "    index = np.arange(0,T+dt,dt)\n",
    "    df['period'] = index\n",
    "    df = df.set_index(index)\n",
    "    df['Notional'] = N\n",
    "    df['disc_factor'] = np.exp(-R * df['period'])\n",
    "    \n",
    "    #Create column to hold the guess for the implied hazard rate\n",
    "    df['lambda'] = Lam\n",
    "    \n",
    "    #Calculate probability of survival and probability of default based on hazard rate guess\n",
    "    df['P_Survival'] = np.exp(df['period']*-df['lambda'])\n",
    "    df['P_Default'] = df['P_Survival'].shift(1) - df['P_Survival']\n",
    "    df.loc[0,'P_Default'] = 0\n",
    "\n",
    "    df['premium_leg'] = df['Notional'] * df['disc_factor'] * Mkt_Spread * dt *df['P_Survival']\n",
    "    df.loc[0,'premium_leg'] = 0\n",
    "    df['default_leg'] = df['Notional'] * (1-RR) * df['P_Default'] * df['disc_factor']\n",
    "    pv_premium_leg = df['premium_leg'].sum()\n",
    "    pv_default_leg = df['default_leg'].sum()\n",
    "    mtm = pv_default_leg - pv_premium_leg\n",
    "    return mtm, Lam, df"
   ]
  },
  {
   "cell_type": "code",
   "execution_count": 7,
   "metadata": {
    "collapsed": true
   },
   "outputs": [],
   "source": [
    "def CDS_root_find(R, T, dt, N, RR, Mkt_Spread):    \n",
    "    #Calculation of implied hazard rate\n",
    "    Lam = 0.1 #Initial Estimate for Lambda\n",
    "    count = 100000  #number of attempts to find value\n",
    "    mtm, Lam, df = CDS_Implied_PD(R, T, dt, N, RR, Lam, Mkt_Spread)\n",
    "    while abs(mtm) > (.0001*N) and count > 0:\n",
    "        if mtm > (.0001 * N):\n",
    "            Lam = Lam -.0001\n",
    "        else:\n",
    "            Lam = Lam + .0001\n",
    "        mtm, Lam, df1 = CDS_Implied_PD(R, T, dt, N, RR, Lam, Mkt_Spread)        \n",
    "        count -= 1        \n",
    "    return mtm, Lam, count"
   ]
  },
  {
   "cell_type": "code",
   "execution_count": 8,
   "metadata": {
    "collapsed": false
   },
   "outputs": [
    {
     "name": "stdout",
     "output_type": "stream",
     "text": [
      "The implied survival probability is 0.8954\n",
      "The implied default probability is 0.1046\n"
     ]
    }
   ],
   "source": [
    "#Run functions to determine implied probability of default\n",
    "#input contract variables and CDS market spread\n",
    "'''\n",
    "R = Risk Free Rate\n",
    "T = Time to maturity in years\n",
    "dt = Payment Frequency in fraction of a year  .25 = quarterly, .5 = semiannually\n",
    "N = Notional Amount\n",
    "RR = Recovery Rate\n",
    "Mkt_Spread = Observed CDS Spread in %\n",
    "'''\n",
    "R = .05\n",
    "T = 5\n",
    "dt = .25\n",
    "N = 1000000\n",
    "RR = .40\n",
    "Mkt_Spread = .0133\n",
    "\n",
    "mtm, Lam, count = CDS_root_find(R, T, dt, N, RR, Mkt_Spread)\n",
    "implied_survival_probability = math.exp(-Lam * T)\n",
    "\n",
    "print(\"The implied survival probability is %.4f\" %implied_survival_probability)\n",
    "print(\"The implied default probability is %.4f\" %(1-implied_survival_probability))"
   ]
  },
  {
   "cell_type": "code",
   "execution_count": null,
   "metadata": {
    "collapsed": true
   },
   "outputs": [],
   "source": []
  }
 ],
 "metadata": {
  "anaconda-cloud": {},
  "kernelspec": {
   "display_name": "Python [Root]",
   "language": "python",
   "name": "Python [Root]"
  },
  "language_info": {
   "codemirror_mode": {
    "name": "ipython",
    "version": 3
   },
   "file_extension": ".py",
   "mimetype": "text/x-python",
   "name": "python",
   "nbconvert_exporter": "python",
   "pygments_lexer": "ipython3",
   "version": "3.5.2"
  }
 },
 "nbformat": 4,
 "nbformat_minor": 0
}
