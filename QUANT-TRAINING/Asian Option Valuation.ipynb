{
 "cells": [
  {
   "cell_type": "markdown",
   "metadata": {},
   "source": [
    "Asian Option Valuation\n",
    "\n",
    "Asian Options Types:\n",
    "\n",
    "Fixed Strike\n",
    "    \n",
    "    Pays the difference between a fixed strike value and the average value of the underlying\n",
    "\n",
    "Floating Strike\n",
    "    \n",
    "    Pays the difference between the average value (the strike) and the ending value\n",
    "    \n",
    "The necessity of calculating the average makes asian options path dependent.\n",
    "\n",
    "The calculation of the average is also variable and will be specified in the contract\n",
    "    \n",
    "    The sampling period - how often the average is taken ranging from daily to once at the end of the contract\n",
    "    \n",
    "    Geometric vs Arithmetic mean"
   ]
  },
  {
   "cell_type": "code",
   "execution_count": 9,
   "metadata": {
    "collapsed": true
   },
   "outputs": [],
   "source": [
    "#Module Imports\n",
    "import numpy as np\n",
    "import numpy.random as npr\n",
    "import math\n",
    "import scipy as sp\n",
    "from scipy import stats"
   ]
  },
  {
   "cell_type": "code",
   "execution_count": 10,
   "metadata": {
    "collapsed": true
   },
   "outputs": [],
   "source": [
    "'''DEFINITION OF VARIABLES\n",
    "    S0 - Stock Price at T=0\n",
    "    E - Strike Price\n",
    "    T - Time in Years\n",
    "    R - Risk Free Rate\n",
    "    SIGMA - Volatility\n",
    "    DT - Time Step = T/N\n",
    "    DF - Discount Factor = e^-RT\n",
    "    I - Number of Simulations\n",
    "    P - Discrete Sampling Frequency for Asian Options \n",
    "        252/Annual, 126/SemiAnnual, 63/Quarterly, 21/Monthly, 1/Continuous\n",
    "'''\n",
    "\n",
    "S0 = 100\n",
    "E=100\n",
    "T=1\n",
    "R=0.05\n",
    "SIGMA=0.20\n",
    "I=10000\n",
    "P= 21 #Discrete Sampling Frequency 252/Annual, 126/SemiAnnual, 63/Quarterly, 21/Monthly, 1/Continuous\n",
    "N=252\n"
   ]
  },
  {
   "cell_type": "code",
   "execution_count": 11,
   "metadata": {
    "collapsed": true
   },
   "outputs": [],
   "source": [
    "'''OPTION VALUATION - W/ ANTITHETIC VARIANCE REDUCTION W/ MILSTEIN SCHEME - \n",
    "ASIAN OPTIONS - FIXED AND FLOATING STRIKE'''\n",
    "def option_valuation(S0, E, T, N, SIGMA, R, I, P):    \n",
    "    DT = T/N   #Time Step\n",
    "    DF = math.exp(-R*T)  #Discount Factor    \n",
    "#GENERATE RANDOM NUMBERS - ANTITHETIC VARIANCE REDUCTION\n",
    "    PHI = npr.standard_normal((N,int(I/2))) \n",
    "    PHI = np.concatenate((PHI, -PHI), axis=1)     \n",
    "#SET UP EMPTY ARRAYS AND SET INITIAL VALUES    \n",
    "    S = np.zeros_like(PHI)  #Array to Capture Asset Value Path\n",
    "    S[0] = S0\n",
    "    P_AVG=np.zeros_like((S))  #Array to Capture Arithmetic Average Sample\n",
    "    G_AVG=np.zeros_like((S))  #Array to Capture Geometric Average Sample\n",
    "#CREATE FOR LOOP TO GENERATE SIMULATION PATHS - MILSTEIN METHOD\n",
    "    for t in range (1,N):\n",
    "        S[t]=S[t-1]*(1+R*DT+(SIGMA*PHI[t]*np.sqrt(DT))+(SIGMA**2)*(0.5*(((PHI[t]**2)-1)*DT)))\n",
    "#Heaviside Function to Determine When to Take an Average\n",
    "#On sample date the average is taken and stored in the appropriate array\n",
    "        Mod = int(t) % P \n",
    "        if Mod == 0:\n",
    "            P_AVG [t-1] = np.mean(S[(t-(P)):t], axis=0)\n",
    "            G_AVG [t-1] = sp.stats.gmean(S[(t-P):t], axis=0)\n",
    "            \n",
    "        P_AVG[-1] = np.mean(S[(-P):N], axis=0)\n",
    "        P_AVG_Payoff = np.sum(P_AVG[0:N], axis=0) / (N/P)\n",
    "        \n",
    "        G_AVG[-1] = sp.stats.gmean(S[(-P):N], axis=0)\n",
    "        G_AVG_Payoff = np.sum(G_AVG[0:N], axis=0) / (N/P)  \n",
    " \n",
    "#Calculation of Discounted Expected Payoff for Asian Options - Arithmetic Mean \n",
    "    Call_Value_Asian = DF * np.sum(np.maximum((P_AVG_Payoff) - E, 0)) / I\n",
    "    print( \"Value of Fixed Strike Asian Call Option - Arithmetic Average =  %.3f\" %Call_Value_Asian)\n",
    "    Put_Value_Asian = DF * np.sum(np.maximum(E - (P_AVG_Payoff), 0)) / I\n",
    "    print( \"Value of Fixed Strike Asian Put Option - Arithmetic Average = %.3f\" %Put_Value_Asian) \n",
    "\n",
    "#Calculation of Discounted Expected Payoff for Asian Options - Geometric Mean\n",
    "    Call_Value_Asian_GEO = DF * np.sum(np.maximum((G_AVG_Payoff) - E, 0)) / I\n",
    "    print( \"Value of Asian Fixed Strike Call Option - Geometric Average = %.3f\" %Call_Value_Asian_GEO)\n",
    "    Put_Value_Asian_GEO = DF * np.sum(np.maximum(E - (G_AVG_Payoff), 0)) / I\n",
    "    print( \"Value of Asian Fixed Strike Put Option - Geometric Average = %.3f\" %Put_Value_Asian_GEO)\n",
    "\n",
    "#Calculation of Discounted Expected Payoff for Asian Options - Geometric Mean - Floating Strike\n",
    "    Call_Value_Asian_GEO_Float_Strike = DF * np.sum(np.maximum(S[-1] - (G_AVG_Payoff), 0)) / I\n",
    "    print( \"Value of Asian Floating Strike Call Option - Geometric Average = %.3f\" %Call_Value_Asian_GEO_Float_Strike)\n",
    "    Put_Value_Asian_GEO_Float_Strike = DF * np.sum(np.maximum((G_AVG_Payoff) - S[-1], 0)) / I\n",
    "    print( \"Value of Asian Floating Strike Put Option - Geometric Average = %.3f\" %Put_Value_Asian_GEO_Float_Strike)\n",
    "\n",
    "#Calculation of Discounted Expected Payoff for Asian Options - Arithmetic Mean - Floating Strike \n",
    "    Call_Value_Asian_Float_Strike = DF * np.sum(np.maximum(S[-1] - (P_AVG_Payoff), 0)) / I\n",
    "    print( \"Value of Asian Floating Strike Call Option - Arithmetic Average = %.3f\" %Call_Value_Asian_Float_Strike)\n",
    "    Put_Value_Asian_Float_Strike = DF * np.sum(np.maximum((P_AVG_Payoff) - S[-1], 0)) / I\n",
    "    print( \"Value of Asian Floating Strike Put Option - Arithmetic Average = %.3f\" %Put_Value_Asian_Float_Strike) "
   ]
  },
  {
   "cell_type": "code",
   "execution_count": 12,
   "metadata": {
    "collapsed": false
   },
   "outputs": [
    {
     "name": "stdout",
     "output_type": "stream",
     "text": [
      "Value of Fixed Strike Asian Call Option - Arithmetic Average =  5.789\n",
      "Value of Fixed Strike Asian Put Option - Arithmetic Average = 3.344\n",
      "Value of Asian Fixed Strike Call Option - Geometric Average = 5.772\n",
      "Value of Asian Fixed Strike Put Option - Geometric Average = 3.354\n",
      "Value of Asian Floating Strike Call Option - Geometric Average = 6.216\n",
      "Value of Asian Floating Strike Put Option - Geometric Average = 3.564\n",
      "Value of Asian Floating Strike Call Option - Arithmetic Average = 6.200\n",
      "Value of Asian Floating Strike Put Option - Arithmetic Average = 3.576\n"
     ]
    }
   ],
   "source": [
    "option_valuation(S0, E, T, N, SIGMA, R, I, P)"
   ]
  },
  {
   "cell_type": "code",
   "execution_count": null,
   "metadata": {
    "collapsed": true
   },
   "outputs": [],
   "source": []
  }
 ],
 "metadata": {
  "anaconda-cloud": {},
  "kernelspec": {
   "display_name": "Python [Root]",
   "language": "python",
   "name": "Python [Root]"
  },
  "language_info": {
   "codemirror_mode": {
    "name": "ipython",
    "version": 3
   },
   "file_extension": ".py",
   "mimetype": "text/x-python",
   "name": "python",
   "nbconvert_exporter": "python",
   "pygments_lexer": "ipython3",
   "version": "3.5.2"
  }
 },
 "nbformat": 4,
 "nbformat_minor": 0
}
