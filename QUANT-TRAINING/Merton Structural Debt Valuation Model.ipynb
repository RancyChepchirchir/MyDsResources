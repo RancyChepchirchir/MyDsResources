{
 "cells": [
  {
   "cell_type": "code",
   "execution_count": 1,
   "metadata": {
    "collapsed": true
   },
   "outputs": [],
   "source": [
    "#Module Imports\n",
    "import math\n",
    "import scipy as sp\n",
    "from scipy import stats\n",
    "import numpy as np\n",
    "import matplotlib.pyplot as plt"
   ]
  },
  {
   "cell_type": "code",
   "execution_count": 2,
   "metadata": {
    "collapsed": true
   },
   "outputs": [],
   "source": [
    "'''\n",
    "DEFINITION OF VARIABLES\n",
    "    V0 - Total Firm Value (Equity + Debt) at T=0\n",
    "    D - Value of Debt at time T\n",
    "    T - Time in Years\n",
    "    R - Risk Free Rate\n",
    "    SIGMA - Volatility of Total Firm Value\n",
    "'''\n",
    "\n",
    "V0 = 100\n",
    "D = 70\n",
    "T = 4\n",
    "R = 0.05\n",
    "SIGMA = 0.20"
   ]
  },
  {
   "cell_type": "code",
   "execution_count": 7,
   "metadata": {
    "collapsed": false
   },
   "outputs": [],
   "source": [
    "'''Calculation of Debt and Equity Value'''\n",
    "def merton_structural_valuation(V0, D, T, R, SIGMA):   \n",
    "    V0 = float(V0)\n",
    "    d1 = (math.log(V0/D)+(R+(0.5*SIGMA**2))*T)/(SIGMA*math.sqrt(T))\n",
    "    d2 = d1-(SIGMA*math.sqrt(T))\n",
    "    Equity_value = V0*stats.norm.cdf(d1,0,1) - D*math.exp(-R*T)*stats.norm.cdf(d2,0,1)\n",
    "    Debt_value = V0 - Equity_value\n",
    "    return Equity_value, Debt_value, d2"
   ]
  },
  {
   "cell_type": "code",
   "execution_count": 8,
   "metadata": {
    "collapsed": false
   },
   "outputs": [
    {
     "name": "stdout",
     "output_type": "stream",
     "text": [
      "Value of Equity = 43.8038 \n",
      "Value of Debt =  56.1962\n"
     ]
    }
   ],
   "source": [
    "Equity_value, Debt_value, d2 = merton_structural_valuation(V0, D, T, R, SIGMA)\n",
    "print(\"Value of Equity = %.4f \" %Equity_value)\n",
    "print(\"Value of Debt =  %.4f\" %Debt_value)"
   ]
  },
  {
   "cell_type": "code",
   "execution_count": 10,
   "metadata": {
    "collapsed": false
   },
   "outputs": [
    {
     "name": "stdout",
     "output_type": "stream",
     "text": [
      "Yield on Firm's Debt = 0.0549 \n",
      "Risk Premium =  0.0049\n",
      "Default Probability =  0.1167\n",
      "Survival Probability =  0.8833\n"
     ]
    }
   ],
   "source": [
    "#Calculation of yeild on the firm's debt\n",
    "debt_yield = math.log(Debt_value/D) * (-1/T)\n",
    "risk_premium = debt_yield - R\n",
    "default_probability = stats.norm.cdf(-d2,0,1)\n",
    "survival_probability = 1 - default_probability\n",
    "\n",
    "print(\"Yield on Firm's Debt = %.4f \" %debt_yield)\n",
    "print(\"Risk Premium =  %.4f\" %risk_premium)\n",
    "print(\"Default Probability =  %.4f\" %default_probability)\n",
    "print(\"Survival Probability =  %.4f\" %survival_probability)"
   ]
  },
  {
   "cell_type": "code",
   "execution_count": null,
   "metadata": {
    "collapsed": true
   },
   "outputs": [],
   "source": []
  }
 ],
 "metadata": {
  "anaconda-cloud": {},
  "kernelspec": {
   "display_name": "Python [Root]",
   "language": "python",
   "name": "Python [Root]"
  },
  "language_info": {
   "codemirror_mode": {
    "name": "ipython",
    "version": 3
   },
   "file_extension": ".py",
   "mimetype": "text/x-python",
   "name": "python",
   "nbconvert_exporter": "python",
   "pygments_lexer": "ipython3",
   "version": "3.5.2"
  }
 },
 "nbformat": 4,
 "nbformat_minor": 0
}
