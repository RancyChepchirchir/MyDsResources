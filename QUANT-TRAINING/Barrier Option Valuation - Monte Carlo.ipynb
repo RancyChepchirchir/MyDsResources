{
 "cells": [
  {
   "cell_type": "code",
   "execution_count": null,
   "metadata": {
    "collapsed": true
   },
   "outputs": [],
   "source": [
    "#Module Imports\n",
    "import numpy as np\n",
    "import numpy.random as npr\n",
    "import math\n",
    "import matplotlib.pyplot as plt\n",
    "import scipy as sp\n",
    "from scipy import stats\n",
    "import xlwings as xw"
   ]
  },
  {
   "cell_type": "code",
   "execution_count": null,
   "metadata": {
    "collapsed": true
   },
   "outputs": [],
   "source": [
    "'''DEFINITION OF VARIABLES\n",
    "    S0 - Stock Price at T=0\n",
    "    E - Strike Price\n",
    "    T - Time in Years\n",
    "    R - Risk Free Rate\n",
    "    SIGMA - Volatility\n",
    "    DT - Time Step = T/N\n",
    "    DF - Discount Factor = e^-RT\n",
    "    I - Number of Simulations\n",
    "'''\n",
    "\n",
    "S0 = 100\n",
    "Barrier = 80\n",
    "Optionality = \"In\"   #Out = Knock Out Option   In = Knock In Option\n",
    "Type = \"P\"  #C = Call  P = Put\n",
    "\n",
    "E=100\n",
    "T=1\n",
    "R=0.05\n",
    "SIGMA=0.20\n",
    "I = 1000\n",
    "N=252"
   ]
  },
  {
   "cell_type": "code",
   "execution_count": null,
   "metadata": {
    "collapsed": true
   },
   "outputs": [],
   "source": [
    "'''OPTION VALUATION - MONTE CARLO SIMULATION W/ ANTITHETIC VARIANCE REDUCTION W/ MILSTEIN SCHEME '''\n",
    "def option_valuation(S0, E, T, N, SIGMA, R, I, P):    \n",
    "    DT = T/N   #Time Step   \n",
    "#GENERATE RANDOM NUMBERS - ANTITHETIC VARIANCE REDUCTION\n",
    "    PHI = npr.standard_normal((N,int(I/2))) \n",
    "    PHI = np.concatenate((PHI, -PHI), axis=1)     \n",
    "#SET UP EMPTY ARRAYS AND SET INITIAL VALUES    \n",
    "    S = np.zeros_like(PHI)  #Array to Capture Asset Value Path\n",
    "    S[0] = S0\n",
    "    \n",
    "#CREATE FOR LOOP TO GENERATE SIMULATION PATHS - MILSTEIN METHOD\n",
    "    for t in range (1,N):\n",
    "        S[t]=S[t-1]*(1+R*DT+(SIGMA*PHI[t]*np.sqrt(DT))+(SIGMA**2)*(0.5*(((PHI[t]**2)-1)*DT)))\n",
    "        \n",
    "    return S"
   ]
  },
  {
   "cell_type": "code",
   "execution_count": null,
   "metadata": {
    "collapsed": false
   },
   "outputs": [],
   "source": [
    "#Run full simulation\n",
    "S = option_valuation(S0, E, T, N, SIGMA, R, I, P)\n",
    "S[1,1]\n",
    "#You can un-comment the xw.view to get the sim results in excel\n",
    "#xw.view(S)"
   ]
  },
  {
   "cell_type": "code",
   "execution_count": null,
   "metadata": {
    "collapsed": false
   },
   "outputs": [],
   "source": [
    "#Evaluation of up and out call\n",
    "#If at any point in the simulation path the underlying value does reach the barrier, the value of the path is zero.\n",
    "if Type == \"C\" and Optionality == \"Out\":\n",
    "    for t in range(0,I-1):\n",
    "        max = np.max(S[:,t])\n",
    "        if max > Barrier:\n",
    "            S[:,t]=0\n",
    "\n",
    "#Evaluation of down and out put\n",
    "#If at any point in the simulation path the underlying value does reach the barrier, the value of the path is zero.\n",
    "if Type == \"P\" and Optionality == \"Out\":\n",
    "    for t in range(0,I-1):\n",
    "        min = np.min(S[:,t])\n",
    "        if min < Barrier:\n",
    "            S[:,t]=0\n",
    "\n",
    "#Evaluation of up and in call\n",
    "#If at any point in the simulation path the underlying value does NOT reach the barrier, the value of the path is zero.\n",
    "if Type == \"C\" and Optionality == \"In\":\n",
    "    for t in range(0,I-1):\n",
    "        max = np.max(S[:,t])\n",
    "        if max < Barrier:\n",
    "            S[:,t]=0\n",
    "\n",
    "#Evaluation of down and in put\n",
    "#If at any point in the simulation path the underlying value does NOT reach the barrier, the value of the path is zero.\n",
    "if Type == \"P\" and Optionality == \"In\":\n",
    "    for t in range(0,I-1):\n",
    "        min = np.min(S[:,t])\n",
    "        if min > Barrier:\n",
    "            S[:,t]= 0 \n",
    "\n",
    "#You can un-comment the xw.view to get the sim results (after adjusting for barrier) in excel\n",
    "#xw.view(S)"
   ]
  },
  {
   "cell_type": "code",
   "execution_count": null,
   "metadata": {
    "collapsed": false
   },
   "outputs": [],
   "source": [
    "%matplotlib inline\n",
    "#Calculation of Discounted Expected Payoff for Options\n",
    "\n",
    "DF = math.exp(-R*T)  #Discount Factor\n",
    "\n",
    "print(\"Number of Simulations %.d\" %I)\n",
    "\n",
    "if Type == \"C\":\n",
    "    Call_Value = DF * np.sum(np.maximum(S[-1] - E, 0)) / I\n",
    "    print( \"Value of Call Option Monte Carlo = %.3f\" %Call_Value)\n",
    "\n",
    "if Type == \"P\":\n",
    "    Put_Value = np.maximum(E - S[-1], 0)\n",
    "    Put_Value[Put_Value == E] = 0\n",
    "    Put_Value = DF * np.sum(Put_Value) / I\n",
    "    \n",
    "    print( \"Value of Put Option Monte Carlo = %.3f\" %Put_Value)\n",
    "\n",
    "#Create Graph of Monte Carlo Simulation\n",
    "plt.plot(S)\n",
    "plt.show()"
   ]
  },
  {
   "cell_type": "code",
   "execution_count": null,
   "metadata": {
    "collapsed": true
   },
   "outputs": [],
   "source": []
  }
 ],
 "metadata": {
  "anaconda-cloud": {},
  "kernelspec": {
   "display_name": "Python [Root]",
   "language": "python",
   "name": "Python [Root]"
  },
  "language_info": {
   "codemirror_mode": {
    "name": "ipython",
    "version": 3
   },
   "file_extension": ".py",
   "mimetype": "text/x-python",
   "name": "python",
   "nbconvert_exporter": "python",
   "pygments_lexer": "ipython3",
   "version": "3.5.2"
  }
 },
 "nbformat": 4,
 "nbformat_minor": 0
}
