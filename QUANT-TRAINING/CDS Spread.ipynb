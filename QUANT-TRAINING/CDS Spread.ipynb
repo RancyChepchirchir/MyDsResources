{
 "cells": [
  {
   "cell_type": "code",
   "execution_count": 1,
   "metadata": {
    "collapsed": true
   },
   "outputs": [],
   "source": [
    "import numpy as np\n",
    "import pandas as pd\n",
    "import math"
   ]
  },
  {
   "cell_type": "markdown",
   "metadata": {},
   "source": [
    "Determine CDS Spread"
   ]
  },
  {
   "cell_type": "code",
   "execution_count": 2,
   "metadata": {
    "collapsed": true
   },
   "outputs": [],
   "source": [
    "'''\n",
    "R = Risk Free Rate\n",
    "T = Time to maturity in years\n",
    "dt = Payment Frequency in fraction of a year  .25 = quarterly, .5 = semiannually\n",
    "N = Notional Amount\n",
    "Lam = Hazard Rate\n",
    "RR = Recovery Rate\n",
    "'''\n",
    "R = .05\n",
    "T = 5\n",
    "dt = .25\n",
    "N = 1000000\n",
    "Lam = .03\n",
    "RR = .40"
   ]
  },
  {
   "cell_type": "code",
   "execution_count": 4,
   "metadata": {
    "collapsed": false
   },
   "outputs": [
    {
     "name": "stdout",
     "output_type": "stream",
     "text": [
      "PV of Premium Leg = 4,079,926.80\n",
      "PV of Default Leg = 73,714.77\n",
      "Premium - CDS Spread = 0.0181\n"
     ]
    }
   ],
   "source": [
    "#Create empty data frame and create index by period\n",
    "df = pd.DataFrame()\n",
    "index = np.arange(0,T+dt,dt)\n",
    "df['period'] = index\n",
    "df = df.set_index(index)\n",
    "\n",
    "#Set initial variables in the dataframe\n",
    "df['lambda'] = Lam\n",
    "df['Notional'] = N\n",
    "\n",
    "#Calculate probability of survival and probability of default for given hazard rate\n",
    "df['P_Survival'] = np.exp(df['period']*-df['lambda'])\n",
    "df['P_Default'] = df['P_Survival'].shift(1) - df['P_Survival']\n",
    "df.loc[0,'P_Default'] = 0\n",
    "\n",
    "#Calculate discount factors for cash flows\n",
    "df['disc_factor'] = np.exp(-R * df['period'])\n",
    "\n",
    "#Calculate the cash flows related to the premium and default legs of the CDS\n",
    "df['premium_leg'] = df['Notional'] * df['disc_factor'] * df['P_Survival'] * dt\n",
    "df.loc[0,'premium_leg'] = 0\n",
    "df['default_leg'] = df['Notional'] * (1-RR) * df['P_Default'] * df['disc_factor']\n",
    "\n",
    "pv_premium_leg = df['premium_leg'].sum()\n",
    "print(\"PV of Premium Leg = {:,.2f}\".format(pv_premium_leg))\n",
    "pv_default_leg = df['default_leg'].sum()\n",
    "print(\"PV of Default Leg = {:,.2f}\".format(pv_default_leg))\n",
    "\n",
    "premium = pv_default_leg / pv_premium_leg\n",
    "print(\"Premium - CDS Spread = %.4f\" %premium)"
   ]
  },
  {
   "cell_type": "code",
   "execution_count": null,
   "metadata": {
    "collapsed": true
   },
   "outputs": [],
   "source": []
  }
 ],
 "metadata": {
  "kernelspec": {
   "display_name": "Python [Root]",
   "language": "python",
   "name": "Python [Root]"
  },
  "language_info": {
   "codemirror_mode": {
    "name": "ipython",
    "version": 3
   },
   "file_extension": ".py",
   "mimetype": "text/x-python",
   "name": "python",
   "nbconvert_exporter": "python",
   "pygments_lexer": "ipython3",
   "version": "3.5.2"
  }
 },
 "nbformat": 4,
 "nbformat_minor": 0
}
