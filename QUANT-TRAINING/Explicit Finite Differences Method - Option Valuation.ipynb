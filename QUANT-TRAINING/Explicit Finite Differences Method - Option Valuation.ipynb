{
 "cells": [
  {
   "cell_type": "markdown",
   "metadata": {},
   "source": [
    "Explicit Finite Differences Method for Option Valuation\n",
    "\n",
    "Includes Call and Puts / American and European"
   ]
  },
  {
   "cell_type": "code",
   "execution_count": 13,
   "metadata": {
    "collapsed": true
   },
   "outputs": [],
   "source": [
    "import math\n",
    "import numpy as np\n",
    "import pandas as pd\n",
    "import xlwings as xw\n",
    "import scipy as sp\n",
    "from scipy import stats\n",
    "import matplotlib as plt"
   ]
  },
  {
   "cell_type": "code",
   "execution_count": 14,
   "metadata": {
    "collapsed": false
   },
   "outputs": [
    {
     "name": "stdout",
     "output_type": "stream",
     "text": [
      "Asset Step Size 5.00 Time Step Size 0.01 Number of Time Steps 72.00 Number of Asset Steps 40.00\n"
     ]
    }
   ],
   "source": [
    "T = 1  #Time to Expiry in Years\n",
    "E = 100  #Strike\n",
    "r = .05  #Risk Free Rate\n",
    "SIGMA = .20  #Volatility\n",
    "Type = False   #Type of Option True=Call False=Put\n",
    "Ex = False #Early Exercise True=Yes  False=No \n",
    "NAS = 40  #Number of Asset Steps - Higher is more accurate, but more time consuming\n",
    "\n",
    "ds = 2 * E / NAS  #Asset Value Step Size\n",
    "dt = (0.9/NAS/NAS/SIGMA/SIGMA)  #Time Step Size\n",
    "NTS = int(T / dt) + 1  #Number of Time Steps\n",
    "dt = T / NTS #Time Step Size\n",
    "print(\"Asset Step Size %.2f Time Step Size %.2f Number of Time Steps %.2f Number of Asset Steps %.2f\" %(ds, dt, NTS, NAS))"
   ]
  },
  {
   "cell_type": "code",
   "execution_count": 15,
   "metadata": {
    "collapsed": false
   },
   "outputs": [],
   "source": [
    "#Setup Empty numpy Arrays\n",
    "value_matrix = np.zeros((int(NAS+1), int(NTS)))\n",
    "asset_price = np.arange(NAS*ds,-1,-ds)"
   ]
  },
  {
   "cell_type": "code",
   "execution_count": 16,
   "metadata": {
    "collapsed": false
   },
   "outputs": [],
   "source": [
    "#Evaluate Terminal Value for Calls or Puts\n",
    "if Type == True:\n",
    "    value_matrix[:,-1]= np.maximum(asset_price - E,0)\n",
    "else:\n",
    "    value_matrix[:,-1]= np.maximum(E - asset_price,0)"
   ]
  },
  {
   "cell_type": "code",
   "execution_count": 17,
   "metadata": {
    "collapsed": false
   },
   "outputs": [],
   "source": [
    "#Set Lower Boundry in Grid\n",
    "for x in range(1,NTS):\n",
    "    value_matrix[-1,-x-1] = value_matrix[-1,-x]* math.exp(-r*dt)"
   ]
  },
  {
   "cell_type": "code",
   "execution_count": 18,
   "metadata": {
    "collapsed": false
   },
   "outputs": [],
   "source": [
    "#Set Mid and Ceiling Values in Grid\n",
    "for x in range(1,int(NTS)):\n",
    "\n",
    "    for y in range(1,int(NAS)):\n",
    "        #Evaluate Option Greeks\n",
    "        Delta = (value_matrix[y-1,-x] - value_matrix[y+1,-x]) / 2 / ds\n",
    "        Gamma = (value_matrix[y-1,-x] - (2 * value_matrix[y,-x]) + value_matrix[y+1,-x]) / ds / ds\n",
    "        Theta = (-.5 * SIGMA**2 * asset_price[y]**2 * Gamma) - (r * asset_price[y] * Delta) + (r * value_matrix[y,-x])\n",
    "        \n",
    "        #Set Mid Values\n",
    "        value_matrix[y,-x-1] = value_matrix[y,-x] - Theta * dt\n",
    "        if Ex == True:\n",
    "            value_matrix[y,-x-1] = np.maximum(value_matrix[y,-x-1], value_matrix[y,-1])\n",
    "          \n",
    "\n",
    "        #Set Ceiling Value\n",
    "        value_matrix[0,-x-1] = 2 * value_matrix[1,-x-1] - value_matrix[2,-x-1] \n",
    "\n",
    "#Export Value Grid to Excel via xlWings\n",
    "xw.view(value_matrix)"
   ]
  },
  {
   "cell_type": "code",
   "execution_count": 19,
   "metadata": {
    "collapsed": false
   },
   "outputs": [],
   "source": [
    "#Option Valuation Profile in pandas - Index is Strike Price, column 0 is the option price\n",
    "value_df = pd.DataFrame(value_matrix)\n",
    "value_df = value_df.set_index(asset_price)\n",
    "\n",
    "#Export Value Grid to Excel via xlWings\n",
    "xw.view(value_df)"
   ]
  },
  {
   "cell_type": "code",
   "execution_count": 25,
   "metadata": {
    "collapsed": false
   },
   "outputs": [
    {
     "data": {
      "text/plain": [
       "<matplotlib.axes._subplots.AxesSubplot at 0x1c20757ca90>"
      ]
     },
     "execution_count": 25,
     "metadata": {},
     "output_type": "execute_result"
    },
    {
     "data": {
      "image/png": "[encoded data removed]",
      "text/plain": [
       "<matplotlib.figure.Figure at 0x1c20901dc18>"
      ]
     },
     "metadata": {},
     "output_type": "display_data"
    }
   ],
   "source": [
    "%matplotlib inline\n",
    "#Payoff Plot\n",
    "plot_df = value_df.sort_index(ascending=True)\n",
    "plot_df[0].plot()\n",
    "plot_df[NTS-1].plot()"
   ]
  },
  {
   "cell_type": "markdown",
   "metadata": {},
   "source": [
    "Calculation of Option Value using BSM for Comparison - Works for European Options Only"
   ]
  },
  {
   "cell_type": "code",
   "execution_count": 21,
   "metadata": {
    "collapsed": true
   },
   "outputs": [],
   "source": [
    "'''BSM VANILLA EUROPEAN OPTION VALUE CALCULATION'''\n",
    "def bsm_option_value(S0, E, T, R, SIGMA):   \n",
    "    S0 = float(S0)\n",
    "    d1 = (math.log(S0/E)+(R+(0.5*SIGMA**2))*T)/(SIGMA*math.sqrt(T))\n",
    "    d2 = d1-(SIGMA*math.sqrt(T))\n",
    "    call_value = S0*stats.norm.cdf(d1,0,1) - E*math.exp(-R*T)*stats.norm.cdf(d2,0,1)\n",
    "    delta_call = stats.norm.cdf(d1,0,1)\n",
    "    gamma_call = stats.norm.pdf(d1,0,1)/(S0*SIGMA*math.sqrt(T))\n",
    "    theta_call = -(R*E*math.exp(-R*T)*stats.norm.cdf(d2,0,1))-(SIGMA*S0*stats.norm.pdf(d1,0,1)/(2*math.sqrt(T)))\n",
    "    rho_call = T*E*math.exp(-R*T)*stats.norm.cdf(d2,0,1)\n",
    "    vega_call = math.sqrt(T)*S0*stats.norm.pdf(d1,0,1)\n",
    "    \n",
    "    put_value =  E*math.exp(-R*T)*stats.norm.cdf(-d2,0,1) - (S0*stats.norm.cdf(-d1,0,1))\n",
    "    delta_put = -stats.norm.cdf(-d1,0,1)\n",
    "    gamma_put = stats.norm.pdf(d1,0,1)/(S0*SIGMA*math.sqrt(T))\n",
    "    theta_put = (R*E*math.exp(-R*T)*stats.norm.cdf(-d2,0,1))-(SIGMA*S0*stats.norm.pdf(d1,0,1)/(2*math.sqrt(T)))\n",
    "    rho_put = -T*E*math.exp(-R*T)*stats.norm.cdf(-d2,0,1)\n",
    "    vega_put = math.sqrt(T)*S0*stats.norm.pdf(d1,0,1)\n",
    "    \n",
    "    return call_value, delta_call, gamma_call, theta_call, rho_call, vega_call, put_value, delta_put, gamma_put, theta_put, rho_put, vega_put"
   ]
  },
  {
   "cell_type": "code",
   "execution_count": 22,
   "metadata": {
    "collapsed": false
   },
   "outputs": [
    {
     "name": "stdout",
     "output_type": "stream",
     "text": [
      "5.57352602226\n"
     ]
    }
   ],
   "source": [
    "#Run BSM Calculation for values and greeks\n",
    "S0 = 100  #Current Value\n",
    "R=r\n",
    "#BSM function call and output assignment\n",
    "call_value, delta_call, gamma_call, theta_call, rho_call, vega_call, put_value, delta_put, gamma_put, theta_put, rho_put, vega_put = bsm_option_value(S0, E, T, R, SIGMA)\n",
    "\n",
    "if Type == False:\n",
    "    BSM_val = put_value\n",
    "if Type == True:\n",
    "    BSM_val = call_value\n",
    "print(BSM_val)"
   ]
  },
  {
   "cell_type": "code",
   "execution_count": 23,
   "metadata": {
    "collapsed": false
   },
   "outputs": [
    {
     "name": "stdout",
     "output_type": "stream",
     "text": [
      "5.47684205529\n"
     ]
    }
   ],
   "source": [
    "#Finite Differences Method Value at S0\n",
    "fd_value = value_df.ix[S0,1]\n",
    "print(fd_value)"
   ]
  },
  {
   "cell_type": "code",
   "execution_count": 24,
   "metadata": {
    "collapsed": false
   },
   "outputs": [
    {
     "name": "stdout",
     "output_type": "stream",
     "text": [
      "Nominal Difference is 0.0967\n",
      "Percent Difference is 1.7347%\n"
     ]
    }
   ],
   "source": [
    "#Difference\n",
    "diff = put_value - fd_value\n",
    "print(\"Nominal Difference is %.4f\" %diff)\n",
    "\n",
    "pct_diff = abs(diff / put_value)\n",
    "print(\"Percent Difference is {percent:.4%}\".format(percent=pct_diff))\n",
    "\n",
    "#If you want higher accuracy you can increase the number of asset steps"
   ]
  },
  {
   "cell_type": "code",
   "execution_count": null,
   "metadata": {
    "collapsed": false
   },
   "outputs": [],
   "source": []
  },
  {
   "cell_type": "code",
   "execution_count": null,
   "metadata": {
    "collapsed": false
   },
   "outputs": [],
   "source": []
  },
  {
   "cell_type": "code",
   "execution_count": null,
   "metadata": {
    "collapsed": false
   },
   "outputs": [],
   "source": []
  },
  {
   "cell_type": "code",
   "execution_count": null,
   "metadata": {
    "collapsed": true
   },
   "outputs": [],
   "source": []
  }
 ],
 "metadata": {
  "anaconda-cloud": {},
  "kernelspec": {
   "display_name": "Python [Root]",
   "language": "python",
   "name": "Python [Root]"
  },
  "language_info": {
   "codemirror_mode": {
    "name": "ipython",
    "version": 3
   },
   "file_extension": ".py",
   "mimetype": "text/x-python",
   "name": "python",
   "nbconvert_exporter": "python",
   "pygments_lexer": "ipython3",
   "version": "3.5.2"
  }
 },
 "nbformat": 4,
 "nbformat_minor": 0
}
