{
 "cells": [
  {
   "cell_type": "markdown",
   "metadata": {},
   "source": [
    "# Get Spotify Data"
   ]
  },
  {
   "cell_type": "markdown",
   "metadata": {},
   "source": [
    "This notebook downloads and parses playlist data using the information you specified in `pkg/config.py`."
   ]
  },
  {
   "cell_type": "code",
   "execution_count": null,
   "metadata": {},
   "outputs": [],
   "source": [
    "import os\n",
    "import time\n",
    "import spotipy\n",
    "import spotipy.util as util\n",
    "import spotipy.oauth2 as oauth2\n",
    "from spotipy.oauth2 import SpotifyClientCredentials\n",
    "import pandas as pd\n",
    "\n",
    "from pkg.config import *\n",
    "from pkg.spotipy import *\n",
    "from pkg.constants import LIKE, DISLIKE, DATA_DIR\n",
    "from pkg.wrangling import scale_data\n",
    "\n",
    "if not os.path.exists(DATA_DIR):\n",
    "    os.makedirs(DATA_DIR)\n",
    "\n",
    "# \"log in\" to Spotify using CLIENT_* values from pkg.config\n",
    "SPOTIPY_OBJECT = login_to_spotify(CLIENT_USERNAME, CLIENT_ID, CLIENT_SECRET)"
   ]
  },
  {
   "cell_type": "markdown",
   "metadata": {},
   "source": [
    "### Download Playlist Data"
   ]
  },
  {
   "cell_type": "code",
   "execution_count": null,
   "metadata": {},
   "outputs": [],
   "source": [
    "print('Please enter a Spotify playlist ID or URI, and press enter:')\n",
    "LIKES_PLAYLIST = input()\n",
    "\n",
    "likes_playlist_data = get_playlist_data(SPOTIPY_OBJECT, CLIENT_USERNAME, LIKES_PLAYLIST)[0]\n",
    "print('\\nSuccessfully downloaded \"likes\" playlist.')"
   ]
  },
  {
   "cell_type": "code",
   "execution_count": null,
   "metadata": {},
   "outputs": [],
   "source": [
    "print('Please enter a Spotify playlist ID or URI, and press enter:')\n",
    "DISLIKES_PLAYLIST = input()\n",
    "\n",
    "dislikes_playlist_data = get_playlist_data(SPOTIPY_OBJECT, CLIENT_USERNAME, DISLIKES_PLAYLIST)[0]\n",
    "print('\\nSuccessfully downloaded \"dislikes\" playlist.')"
   ]
  },
  {
   "cell_type": "markdown",
   "metadata": {},
   "source": [
    "### Parse Playlist Data"
   ]
  },
  {
   "cell_type": "markdown",
   "metadata": {},
   "source": [
    "This is where the actual dataframe is created. Depending on how large your playlists are, this might take a while due to Spotify's API response time."
   ]
  },
  {
   "cell_type": "code",
   "execution_count": null,
   "metadata": {
    "scrolled": false
   },
   "outputs": [],
   "source": [
    "if not (likes_playlist_data and dislikes_playlist_data):\n",
    "    raise RuntimeError('Please download ')\n",
    "\n",
    "likes_df = get_dataframe(SPOTIPY_OBJECT, likes_playlist_data, LIKE)\n",
    "print('Finished creating likes_df.')"
   ]
  },
  {
   "cell_type": "code",
   "execution_count": null,
   "metadata": {},
   "outputs": [],
   "source": [
    "# behold, the dataframe\n",
    "likes_df"
   ]
  },
  {
   "cell_type": "code",
   "execution_count": null,
   "metadata": {
    "scrolled": false
   },
   "outputs": [],
   "source": [
    "dislikes_df = get_dataframe(SPOTIPY_OBJECT, dislikes_playlist_data, DISLIKE)\n",
    "print('Finished creating dislikes_df.')"
   ]
  },
  {
   "cell_type": "code",
   "execution_count": null,
   "metadata": {},
   "outputs": [],
   "source": [
    "# behold, the dataframe\n",
    "dislikes_df"
   ]
  },
  {
   "cell_type": "code",
   "execution_count": null,
   "metadata": {},
   "outputs": [],
   "source": [
    "data_df = pd.concat([likes_df, dislikes_df], axis=0)\n",
    "print('Finished creating data_df.')"
   ]
  },
  {
   "cell_type": "code",
   "execution_count": null,
   "metadata": {},
   "outputs": [],
   "source": [
    "# behold, the dataframe\n",
    "data_df"
   ]
  },
  {
   "cell_type": "code",
   "execution_count": null,
   "metadata": {},
   "outputs": [],
   "source": [
    "scaled_data_df = scale_data(data_df)"
   ]
  },
  {
   "cell_type": "code",
   "execution_count": null,
   "metadata": {},
   "outputs": [],
   "source": [
    "scaled_data_df"
   ]
  },
  {
   "cell_type": "code",
   "execution_count": null,
   "metadata": {
    "scrolled": true
   },
   "outputs": [],
   "source": [
    "scaled_data_df.to_csv('data/data.csv', encoding='utf-8')"
   ]
  },
  {
   "cell_type": "code",
   "execution_count": null,
   "metadata": {
    "scrolled": true
   },
   "outputs": [],
   "source": [
    "print('Data successfully parsed.')"
   ]
  }
 ],
 "metadata": {
  "kernelspec": {
   "display_name": "Python 3",
   "language": "python",
   "name": "python3"
  },
  "language_info": {
   "codemirror_mode": {
    "name": "ipython",
    "version": 3
   },
   "file_extension": ".py",
   "mimetype": "text/x-python",
   "name": "python",
   "nbconvert_exporter": "python",
   "pygments_lexer": "ipython3",
   "version": "3.7.0"
  }
 },
 "nbformat": 4,
 "nbformat_minor": 2
}
