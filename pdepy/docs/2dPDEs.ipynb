{
 "cells": [
  {
   "cell_type": "markdown",
   "metadata": {},
   "source": [
    "# 2D PDE on regular & irregular domain\n",
    "## Types of PDEs that the solver supports\n",
    "This is a solver for linear (constant/variable coefficient) 2D PDEs, i.e., PDEs that can be written in the form of $\\mathcal{L}u=f(x, y)$, where $\\mathcal{L}$ is a linear combination of $\\{\\mathit{I}, \\frac{\\partial}{\\partial x}, \\frac{\\partial}{\\partial y}, \\frac{\\partial^2}{\\partial x^2}, \\frac{\\partial^2}{\\partial y^2}, \\nabla^2, \\dots\\}$ whose coefficients __can be either a constant or a function $g(x, y)$__. Additionally, users are free to add any other operators.   \n",
    "  \n",
    "Before we begin, let's introduce all the environment variables:"
   ]
  },
  {
   "cell_type": "code",
   "execution_count": 1,
   "metadata": {},
   "outputs": [],
   "source": [
    "import sys, math, numpy as np\n",
    "sys.path.append(\"../src/\")\n",
    "import fdm.solver.fdm_solver as FDM\n",
    "import util.diff_operator_expression.diff_op_expression as Expr\n",
    "from util.diff_operators.impl import d2dx, d2dy, laplacian2d\n",
    "from util.domain_conditions.impl.dirichlet import dirichlet_bc as Dirichlet_BC\n",
    "from util.domain_conditions.core.domain import domain as Domain"
   ]
  },
  {
   "cell_type": "markdown",
   "metadata": {},
   "source": [
    "## Regular Domain\n",
    "Let's introduce the 2D PDE that we're gonna solve:  \n",
    "$\\nabla^2 u = \\frac{2}{(1+x)^3} + \\frac{2}{(1+y)^3}$ whose boundary conditions are  \n",
    "$u(x, 0) = 1+\\frac{1}{1+x}$ for $x\\in [0,1]$,  \n",
    "$u(x,1)=\\frac{1}{2}+\\frac{1}{1+x}$ for $x\\in[0, 1]$,  \n",
    "$u(0, y) = 1+\\frac{1}{1+y}$ for $y\\in[0,1]$,  \n",
    "$u(1, y)=\\frac{1}{2}+\\frac{1}{1+y}$ for $y\\in[0,1]$.  \n",
    "Then we define our Dirichlet boundary condition."
   ]
  },
  {
   "cell_type": "code",
   "execution_count": 2,
   "metadata": {},
   "outputs": [],
   "source": [
    "domain = Domain.domain(np.array([0, 0]), np.array([1, 1]))\n",
    "inDomain = lambda x, y: 0 < x < 1 and 0 < y < 1\n",
    "onBoundary = lambda x, y: abs(x-1) < np.spacing(1) or abs(x) < np.spacing(1) or abs(y-1) < np.spacing(1) or abs(y) < np.spacing(1)\n",
    "getBoundaryValue = lambda x, y: 1/(1+x) + 1/(1+y) # You can verify that this gives us the boundary conditions\n",
    "\n",
    "dirichlet = Dirichlet_BC.dirichlet_bc(inDomain, onBoundary, getBoundaryValue, domain) # Boundary condition class"
   ]
  },
  {
   "cell_type": "markdown",
   "metadata": {},
   "source": [
    "Now we are able to define our solver. Note that we will define the solver on four domains which are discretized in different scales. "
   ]
  },
  {
   "cell_type": "code",
   "execution_count": 3,
   "metadata": {},
   "outputs": [
    {
     "name": "stdout",
     "output_type": "stream",
     "text": [
      "31 ms ± 0 ns per loop (mean ± std. dev. of 1 run, 1 loop each)\n",
      "90.2 ms ± 0 ns per loop (mean ± std. dev. of 1 run, 1 loop each)\n",
      "333 ms ± 0 ns per loop (mean ± std. dev. of 1 run, 1 loop each)\n",
      "1.53 s ± 0 ns per loop (mean ± std. dev. of 1 run, 1 loop each)\n"
     ]
    }
   ],
   "source": [
    "f = lambda x, y: 2/(1+x)**3 + 2/(1+y)**3 # this is the function on the right hand side of our PDE\n",
    "approximation = []\n",
    "for n in [9, 19, 39, 79]:\n",
    "    dx, dy = 1/(n+1), 1/(n+1) # each grid's length\n",
    "    expression = Expr.diff_operator_expression([laplacian2d.laplacian2d(dx, dy, coefficient=lambda x, y: 1)]) \n",
    "    # we only have a laplacian operator in our PDE\n",
    "    solver = FDM.fdm_solver(expression, f, dirichlet) \n",
    "    # Insert the operator expression, function on the right hand side and the boundary condition into our solver\n",
    "    %timeit -n1 -r1 approximation.append(solver.solve(n, n))\n",
    "    # n represents grid point numbers. In this case, we have n points in both x and y axis."
   ]
  },
  {
   "cell_type": "markdown",
   "metadata": {},
   "source": [
    "We rapidly get the approximated solution to our PDE. Fortunately, we have an analytical solution to this problem, which is $u(x, y) = \\frac{1}{1+x}+\\frac{1}{1+y}$. We now compare our approximation with the analytical solution using the $L^\\infty$ norm."
   ]
  },
  {
   "cell_type": "code",
   "execution_count": 4,
   "metadata": {
    "scrolled": false
   },
   "outputs": [
    {
     "name": "stdout",
     "output_type": "stream",
     "text": [
      " n max_error\n",
      " 9 0.000554\n",
      "19 0.000140\n",
      "39 0.000035\n",
      "79 0.000009\n"
     ]
    }
   ],
   "source": [
    "error = [] # Use this array to record the errors of our approximation.\n",
    "for index, n in enumerate([9, 19, 39, 79]):\n",
    "    # We get the approximated solution. Then we compare it with the analytical solution.\n",
    "    correct_function = lambda x, y: 1/(1+x) + 1/(1+y)\n",
    "    correct_solution = np.zeros(n**2)\n",
    "    for j in range(n):\n",
    "        y = (j+1)/(n+1)\n",
    "        for i in range(n):\n",
    "            x = (i+1)/(n+1)\n",
    "            correct_solution[j*n+i] = correct_function(x, y)\n",
    "    error.append(max(abs(approximation[index]-correct_solution)))\n",
    "print(\" n\", \"max_error\")\n",
    "for index, n in enumerate([9, 19, 39, 79]):\n",
    "    print(\"{:2d} {:f}\".format(n, error[index]))"
   ]
  },
  {
   "cell_type": "markdown",
   "metadata": {},
   "source": [
    "We can see that it converges in second-order of accuracy. This is because that I implemented the second-order of accuracy numerical scheme in the Laplacian operator, which is shown as follows:\n",
    "```python\n",
    "class laplacian2d(diff_op.diff_operator):\n",
    "    def __init__(self, dx, dy, coefficient = 1):\n",
    "        super().__init__([((0, -1), 1/dy**2), ((-1, 0), 1/dx**2), ((0, 0), -2/dx**2-2/dy**2), ((1, 0), 1/dx**2), ((0, 1), 1/dy**2)], coefficient)\n",
    "```\n",
    "The first argument in the super().\\_\\_init\\__ function defines the numerical scheme used by the operator. __Users can modify it at will to increase/decrease its degree of accuracy__.  \n",
    "  \n",
    "Here is an explanation of the five point method I used here.\n",
    "![Five point formula used here](img/five_points_method.png)"
   ]
  },
  {
   "cell_type": "markdown",
   "metadata": {},
   "source": [
    "## Irregular Domain\n",
    "This time we consider a 2D PDE on a unit circle domain.  \n",
    "$\\frac{\\partial^2u}{\\partial x^2}+\\frac{\\partial^2u}{\\partial y^2} = 16(x^2+y^2)$ on $\\Omega = \\{(x, y):x^2+y^2<1\\}$ whose boundary condition is $u(x, y) = 1$ for $(x, y)\\in \\partial\\Omega$.  \n",
    "Again, I'm going to define the Dirichlet boundary condition."
   ]
  },
  {
   "cell_type": "code",
   "execution_count": 5,
   "metadata": {},
   "outputs": [],
   "source": [
    "# These two functions take (x, y) as input, then output its closest point on the unit circle\n",
    "def get_y_by_x(x, y):\n",
    "    y1 = math.sqrt(1-x**2)\n",
    "    y2 = -y1\n",
    "    if abs(y-y2) < abs(y-y1):\n",
    "        return (x, y2)\n",
    "    else:\n",
    "        return (x, y1)\n",
    "    \n",
    "def get_x_by_y(x, y):\n",
    "    x1 = math.sqrt(1-y**2)\n",
    "    x2 = -x1\n",
    "    if abs(x-x2) < abs(x-x1):\n",
    "        return (x2, y)\n",
    "    else:\n",
    "        return (x1, y)\n",
    "\n",
    "domain = Domain.domain(np.array([-1, -1]), np.array([1, 1]))\n",
    "inDomain = lambda x, y: x**2 + y**2 < 1\n",
    "onBoundary = lambda x, y: abs(x**2 + y**2 - 1) < np.spacing(1)\n",
    "getBoundaryValue = lambda x, y: 1\n",
    "getNearestPoint = [get_x_by_y, get_y_by_x] # Defined above\n",
    "dirichlet = Dirichlet_BC.dirichlet_bc(inDomain, onBoundary, getBoundaryValue, domain, getNearestPoint)"
   ]
  },
  {
   "cell_type": "markdown",
   "metadata": {},
   "source": [
    "Now we are able to define our solver. Note that what I did for the irregular domain is basically identical to what I have done for the regular domain, since the solver would __automatically detect irregular domain and execute the algorithm for irregular domain__. So unlike the other solvers, users of my solver don't have to do any extra work.  \n",
    "We also have an analytical solution to this problem, which is $u(x, y) = (x^2+y^2)^2$."
   ]
  },
  {
   "cell_type": "code",
   "execution_count": 7,
   "metadata": {},
   "outputs": [
    {
     "name": "stdout",
     "output_type": "stream",
     "text": [
      "106 ms ± 0 ns per loop (mean ± std. dev. of 1 run, 1 loop each)\n",
      "311 ms ± 0 ns per loop (mean ± std. dev. of 1 run, 1 loop each)\n",
      "1.44 s ± 0 ns per loop (mean ± std. dev. of 1 run, 1 loop each)\n",
      "10.7 s ± 0 ns per loop (mean ± std. dev. of 1 run, 1 loop each)\n",
      " n max_error\n",
      " 9 0.009951\n",
      "19 0.002496\n",
      "39 0.000625\n",
      "79 0.000156\n"
     ]
    }
   ],
   "source": [
    "f = lambda x, y: 16*(x**2+y**2) # this is the function on the right hand side of our PDE\n",
    "error = [] # Use this array to record the errors of our approximation.\n",
    "approximation = []\n",
    "for index, n in enumerate([9, 19, 39, 79]):\n",
    "    dx, dy = 1/(n+1), 1/(n+1)\n",
    "    expression = Expr.diff_operator_expression([d2dx.d2dx(dx, coefficient=lambda x, y: 1), d2dy.d2dy(dy, coefficient=lambda x, y: 1)])\n",
    "    # we only have d2dx and d2dy in our PDE\n",
    "    solver = FDM.fdm_solver(expression, f, dirichlet)\n",
    "    # Insert the operator expression, function on the right hand side and the boundary condition into our solver\n",
    "    %timeit -r1 -n1 approximation.append(solver.solve(2*n+1, 2*n+1))\n",
    "    # n represents grid point numbers. In this case, we have n points in both x and y axis.\n",
    "\n",
    "    \n",
    "    correct_function = lambda x, y: (x**2+y**2)**2\n",
    "    correct_solution = np.zeros(solver.vector_len) \n",
    "    # solver.vector_len records the number of points we approximated on the irregular domain\n",
    "    for i in range(solver.vector_len):\n",
    "        correct_solution[i] = correct_function(*solver._get_coord_by_offset(dx, dy, *solver.index_to_grid[i]))\n",
    "        # the complex argument gives us the location of the point\n",
    "    error.append(max(abs(approximation[index]-correct_solution)))\n",
    "    \n",
    "print(\" n\", \"max_error\")\n",
    "for index, n in enumerate([9, 19, 39, 79]):\n",
    "    print(\"{:2d} {:f}\".format(n, error[index]))"
   ]
  },
  {
   "cell_type": "markdown",
   "metadata": {},
   "source": [
    "We can see that a PDE defined on irregular domain takes a longer time to solve. However, it still converges in second-order of accuracy even when the domain is irregular, since I implemented the second-order of accuracy numerical scheme for $\\frac{\\partial^2u}{\\partial x^2}$ and $\\frac{\\partial^2u}{\\partial y^2}$ when the domain is irregular. The following code snipet illustrates how it is implemented:\n",
    "```python\n",
    "class d2dx(diff_op.diff_operator):\n",
    "    def __init__(self, dx, coefficient = 1):\n",
    "        super().__init__([((-1, 0), 1/dx**2), ((0, 0), -2/dx**2), ((1, 0), 1/dx**2)], coefficient)\n",
    "\n",
    "    def getIrregularStencil(self, dx, tau, direction):\n",
    "        # direction = 1 represents positive y axis; -1 represents negative y axis\n",
    "        c1, c2, c3, c4 = (tau-1)/(tau+2), 2*(2-tau)/(tau+1), (tau-3)/tau, 6/(tau*(tau+1)*(tau+2))\n",
    "        if direction == diff_op.Direction.POSITIVE:\n",
    "            return [irregular_stencil_node((-2, 0), c1/dx**2), irregular_stencil_node((-1, 0), c2/dx**2), irregular_stencil_node((0, 0), c3/dx**2), irregular_stencil_node((tau, 0), c4/dx**2, True)]\n",
    "        elif direction == diff_op.Direction.NEGATIVE:\n",
    "            return [irregular_stencil_node((-tau, 0), c4/dx**2, True), irregular_stencil_node((0, 0), c3/dx**2), irregular_stencil_node((1, 0), c2/dx**2), irregular_stencil_node((2, 0), c1/dx**2)]\n",
    "```\n",
    "When an irregular domain is detected by my solver, it would automatically call the function getIrregularStencil() to get the stencil for irregular domains."
   ]
  }
 ],
 "metadata": {
  "kernelspec": {
   "display_name": "Python 3",
   "language": "python",
   "name": "python3"
  },
  "language_info": {
   "codemirror_mode": {
    "name": "ipython",
    "version": 3
   },
   "file_extension": ".py",
   "mimetype": "text/x-python",
   "name": "python",
   "nbconvert_exporter": "python",
   "pygments_lexer": "ipython3",
   "version": "3.7.1"
  }
 },
 "nbformat": 4,
 "nbformat_minor": 2
}
